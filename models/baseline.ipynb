{
 "cells": [
  {
   "cell_type": "code",
   "execution_count": 2,
   "id": "79ea9b1e",
   "metadata": {},
   "outputs": [],
   "source": [
    "import numpy as np\n",
    "import pandas as pd\n",
    "import jax.numpy as jnp\n",
    "from jax import grad, jit, lax, random, vmap\n",
    "from jax.scipy.special import expit as sigmoid\n",
    "from sklearn.model_selection import train_test_split\n",
    "import jax\n",
    "import numpy as np\n",
    "import jax.numpy as jnp\n",
    "import pylab as plt\n",
    "from scipy.sparse import csr_matrix\n",
    "import pandas as pd\n",
    "from sklearn.model_selection import train_test_split"
   ]
  },
  {
   "cell_type": "code",
   "execution_count": null,
   "id": "785523b4",
   "metadata": {},
   "outputs": [],
   "source": []
  },
  {
   "cell_type": "code",
   "execution_count": 3,
   "id": "5568ba34",
   "metadata": {},
   "outputs": [
    {
     "name": "stdout",
     "output_type": "stream",
     "text": [
      "A user can give ratings to {10} songs\n",
      "A song can be rated by {1, 2, 3, 4, 5, 6, 7, 8, 9, 10, 11, 12, 13, 14, 15, 16, 17, 18, 19, 20, 21, 22, 23, 24, 25, 26, 27, 28, 29, 30, 31, 32, 33, 34, 35, 36, 37, 38, 39, 40, 41, 42, 43, 44, 45, 46, 47, 48, 49, 50, 51, 52, 53, 54, 55, 56, 57, 58, 59, 60, 61, 62, 63, 64, 65, 66, 67, 68, 69, 70, 71, 72, 73, 74, 75, 76, 77, 78, 79, 80, 81, 82, 83, 84, 85, 86, 87, 88, 89, 90, 91, 92, 93, 94, 95, 96, 97, 98, 99, 100, 101, 102, 103, 104, 105, 106, 107, 108, 109, 110, 111, 112, 113, 114, 115, 116, 117, 118, 119, 120, 121, 122, 123, 124, 125, 126, 127, 128, 129, 130, 131, 132, 133, 134, 135, 136, 137, 138, 139, 140, 141, 142, 143, 144, 145, 146, 147, 148, 149, 150, 151, 152, 153, 154, 155, 156, 157, 158, 159, 160, 161, 162, 163, 164, 165, 166, 167, 168, 169, 170, 171, 172, 173, 174, 175, 176, 177, 178, 179, 180, 181, 182, 183, 184, 185, 186, 187, 188, 189, 190, 191, 192, 193, 194, 195, 196, 197, 198, 199, 200, 201, 202, 203, 204, 205, 206, 207, 208, 209, 210, 211, 212, 213, 214, 215, 216, 217, 218, 219, 220, 221, 222, 223, 224, 225, 226, 227, 228, 229, 230, 231, 232, 233, 234, 235, 236, 237, 238, 239, 240, 241, 242, 243, 244, 245, 246, 247, 248, 249, 250, 251, 252, 253, 254, 255, 256, 257, 258, 259, 260, 261, 262, 263, 264, 265, 266, 267, 268, 269, 270, 271, 272, 273, 274, 275, 276, 277, 278, 279, 280, 281, 282, 283, 284, 285, 287, 288, 289, 290, 291, 292, 293, 294, 295, 296, 297, 298, 299, 300, 301, 302, 303, 304, 305, 306, 307, 308, 309, 310, 311, 312, 313, 314, 315, 316, 317, 318, 319, 320, 321, 322, 323, 324, 325, 327, 328, 329, 330, 331, 332, 333, 334, 335, 336, 337, 338, 339, 340, 341, 342, 343, 344, 346, 347, 348, 349, 350, 351, 352, 354, 355, 356, 357, 358, 359, 360, 361, 362, 363, 364, 365, 366, 367, 368, 369, 371, 372, 373, 374, 376, 378, 379, 380, 381, 382, 383, 384, 385, 386, 387, 388, 389, 390, 391, 392, 393, 395, 396, 397, 398, 399, 400, 401, 402, 403, 404, 405, 406, 407, 408, 409, 410, 411, 412, 413, 414, 415, 416, 417, 418, 419, 420, 421, 422, 423, 424, 425, 426, 427, 428, 429, 430, 431, 432, 433, 434, 435, 436, 437, 438, 439, 440, 441, 442, 443, 444, 445, 446, 447, 448, 449, 450, 452, 453, 454, 455, 456, 457, 458, 459, 460, 461, 462, 463, 464, 465, 467, 468, 469, 470, 471, 472, 474, 477, 480, 481, 482, 483, 485, 486, 488, 492, 493, 494, 496, 497, 499, 500, 501, 503, 504, 505, 506, 508, 513, 515, 517, 518, 519, 520, 521, 522, 523, 524, 525, 526, 530, 531, 532, 533, 534, 535, 536, 537, 539, 540, 541, 542, 544, 547, 548, 549, 550, 551, 552, 553, 555, 558, 560, 561, 562, 564, 568, 570, 571, 572, 573, 574, 575, 576, 577, 578, 581, 582, 583, 585, 586, 587, 588, 589, 590, 591, 592, 595, 600, 601, 603, 604, 605, 606, 607, 608, 609, 610, 612, 613, 616, 617, 620, 621, 622, 623, 624, 627, 629, 631, 632, 633, 634, 635, 636, 638, 640, 642, 646, 648, 652, 655, 656, 659, 665, 666, 668, 673, 674, 675, 676, 677, 678, 679, 681, 683, 684, 686, 687, 689, 691, 694, 695, 696, 699, 701, 702, 703, 704, 705, 709, 710, 711, 715, 717, 719, 720, 724, 727, 728, 730, 731, 736, 737, 738, 739, 741, 742, 746, 748, 751, 755, 758, 759, 760, 761, 765, 771, 776, 778, 780, 784, 785, 787, 788, 790, 791, 792, 798, 800, 810, 813, 814, 815, 817, 818, 820, 821, 824, 825, 831, 837, 840, 845, 846, 847, 852, 855, 864, 865, 871, 875, 878, 879, 880, 883, 886, 887, 889, 893, 902, 906, 919, 921, 924, 928, 929, 935, 936, 939, 964, 976, 985, 992, 994, 1023, 1025, 1040, 1064, 1066, 1068, 1076, 1085, 1089, 1092, 1097, 1114, 1119, 1143, 1144, 1158, 1173, 1178, 1180, 1184, 1187, 1215, 1219, 1221, 1243, 1254, 1260, 1262, 1286, 1294, 1296, 1300, 1325, 1326, 1327, 1329, 1341, 1361, 1413, 1439, 1474, 1483, 1491, 1516, 1534, 1536, 1548, 1557, 1583, 1600, 1720, 1880, 1904} users\n",
      "127771 200000\n"
     ]
    }
   ],
   "source": [
    "df = pd.read_csv('songsDataset.csv')\n",
    "df.columns = ['userID', 'songID', 'rating']\n",
    "# basic data analysis: number of users and songs\n",
    "n_users, n_songs = len(set(df[\"userID\"].tolist())), len(set(df[\"songID\"].tolist()))\n",
    "all_ratings = set(df[\"rating\"].tolist())\n",
    "n_rating_levels = len(all_ratings)\n",
    "# Number of songs a user typically rates\n",
    "user_rating_counts = df.groupby('userID')['songID'].count().reset_index()\n",
    "user_rating_counts.columns = ['userID', 'song_count']\n",
    "print(f'A user can give ratings to {set(user_rating_counts[\"song_count\"])} songs')\n",
    "\n",
    "# Number of users a song is typically rated by\n",
    "song_rating_counts = df.groupby('songID')['userID'].count().reset_index()\n",
    "song_rating_counts.columns = ['songID', 'user_count']\n",
    "print(f'A song can be rated by {set(song_rating_counts[\"user_count\"])} users')\n",
    "# generate consecutive indices for users and songs\n",
    "all_song_idx, all_user_idx = sorted(list(set(df.songID.values))), sorted(list(set(df.userID.values)))\n",
    "print(len(all_song_idx), len(all_user_idx))\n",
    "song_idx_dict = {song_id: i for i, song_id in enumerate(all_song_idx)}\n",
    "user_idx_dict = {user_id: i for i, user_id in enumerate(all_user_idx)}\n",
    "df['userID'] = df['userID'].apply(lambda x: user_idx_dict[x])\n",
    "df['songID'] = df['songID'].apply(lambda x: song_idx_dict[x])"
   ]
  },
  {
   "cell_type": "code",
   "execution_count": 4,
   "id": "2833b673",
   "metadata": {},
   "outputs": [
    {
     "name": "stdout",
     "output_type": "stream",
     "text": [
      "(200000, 127771) (200000, 127771) (200000, 127771)\n"
     ]
    }
   ],
   "source": [
    "def generate_rating_matrix(df, total_df):\n",
    "    # create rating matrix of shape (number of users, number of songs)\n",
    "    ratings = csr_matrix(\n",
    "        (df.rating.values, (df.userID.values, df.songID.values)), \n",
    "        shape=(len(total_df.userID.unique()), len(total_df.songID.unique()))\n",
    "    ).toarray()\n",
    "    return ratings\n",
    "\n",
    "train, test = train_test_split(df, test_size=0.2, random_state=42)\n",
    "train, val = train_test_split(train, test_size=0.2, random_state=42)\n",
    "ratings_train, ratings_val, ratings_test = generate_rating_matrix(train, df), \\\n",
    "    generate_rating_matrix(val, df), generate_rating_matrix(test, df)\n",
    "print(ratings_train.shape, ratings_val.shape, ratings_test.shape)"
   ]
  },
  {
   "cell_type": "code",
   "execution_count": 5,
   "id": "f104922a",
   "metadata": {},
   "outputs": [],
   "source": [
    "def init_model_params(rng, num_users, num_songs, embedding_dim):\n",
    "    w_user = random.normal(rng, (num_users, embedding_dim))\n",
    "    w_song = random.normal(rng, (num_songs, embedding_dim))\n",
    "    return w_user, w_song\n",
    "\n",
    "embedding_dim = 10\n",
    "num_users=200000\n",
    "num_songs=127771\n",
    "rng = random.PRNGKey(0)\n",
    "w_user, w_song = init_model_params(rng, num_users, num_songs, embedding_dim)"
   ]
  },
  {
   "cell_type": "code",
   "execution_count": 6,
   "id": "a04d8051",
   "metadata": {},
   "outputs": [],
   "source": [
    "def model(params, user_ids, song_ids):\n",
    "    w_user, w_song = params\n",
    "    user_embed = w_user[user_ids]\n",
    "    song_embed = w_song[song_ids]\n",
    "    return jnp.sum(user_embed * song_embed, axis=-1)\n",
    "\n",
    "def mse_loss(params, data):\n",
    "    user_ids, song_ids, ratings = data[:, 0], data[:, 1], data[:, 2]\n",
    "    predicted_ratings = model(params, user_ids, song_ids)\n",
    "    return jnp.mean((predicted_ratings - ratings) ** 2)\n",
    "\n",
    "@jit\n",
    "def update(params, data, lr=0.01):\n",
    "    grad_loss = grad(mse_loss)(params, data)\n",
    "    return [(param - lr * grad_param) for param, grad_param in zip(params, grad_loss)]"
   ]
  },
  {
   "cell_type": "code",
   "execution_count": 9,
   "id": "671b8e77",
   "metadata": {},
   "outputs": [
    {
     "name": "stdout",
     "output_type": "stream",
     "text": [
      "Mean Squared Error (MSE) for validation data (baseline model): 1.804611342330206\n"
     ]
    }
   ],
   "source": [
    "import pandas as pd\n",
    "from sklearn.model_selection import train_test_split\n",
    "from sklearn.metrics import mean_squared_error\n",
    "\n",
    "# Assuming df is your dataframe with columns 'user_id', 'rating', and 'song_id'\n",
    "\n",
    "# Splitting into train and test\n",
    "train_data, test_data = train_test_split(df, test_size=0.2, random_state=42)\n",
    "\n",
    "# Splitting train data into train and validation\n",
    "#train_data, validation_data = train_test_split(train_data, test_size=0.2, random_state=42)\n",
    "\n",
    "# Calculate average rating for each user and each item\n",
    "user_means = train_data.groupby('userID')['rating'].mean()\n",
    "item_means = train_data.groupby('songID')['rating'].mean()\n",
    "\n",
    "# Predict ratings for validation data using average ratings\n",
    "test_data['user_mean_rating'] = test_data['userID'].map(user_means)\n",
    "test_data['item_mean_rating'] = test_data['songID'].map(item_means)\n",
    "\n",
    "# Fill missing user or item means with global mean\n",
    "global_mean = train_data['rating'].mean()\n",
    "test_data['user_mean_rating'].fillna(global_mean, inplace=True)\n",
    "test_data['item_mean_rating'].fillna(global_mean, inplace=True)\n",
    "\n",
    "# Calculate predicted ratings using average of user and item means\n",
    "test_data['predicted_rating'] = (test_data['user_mean_rating'] + test_data['item_mean_rating']) / 2\n",
    "\n",
    "# Calculate Mean Squared Error (MSE)\n",
    "mse = mean_squared_error(test_data['rating'], test_data['predicted_rating'])\n",
    "\n",
    "print(\"Mean Squared Error (MSE) for validation data (baseline model):\", mse)"
   ]
  },
  {
   "cell_type": "code",
   "execution_count": 11,
   "id": "1856ba04",
   "metadata": {},
   "outputs": [],
   "source": [
    "from sklearn.metrics import classification_report\n",
    "\n",
    "# Round to integer and limit values to 1 - 5\n",
    "true,pred = test_data['rating'].tolist(), test_data['predicted_rating'].tolist()\n",
    "rounded_pred = np.round(pred)\n",
    "rounded_pred = np.clip(rounded_pred, 1, 5)\n",
    "# Compute classification report\n",
    "report = classification_report(true, rounded_pred, labels=[1, 2, 3, 4, 5])"
   ]
  },
  {
   "cell_type": "code",
   "execution_count": 13,
   "id": "c6dc9f02",
   "metadata": {},
   "outputs": [
    {
     "name": "stdout",
     "output_type": "stream",
     "text": [
      "              precision    recall  f1-score   support\n",
      "\n",
      "           1       0.89      0.02      0.03     80077\n",
      "           2       0.12      0.09      0.10     37303\n",
      "           3       0.19      0.54      0.28     57560\n",
      "           4       0.19      0.55      0.29     69007\n",
      "           5       0.85      0.05      0.09    156053\n",
      "\n",
      "    accuracy                           0.20    400000\n",
      "   macro avg       0.45      0.25      0.16    400000\n",
      "weighted avg       0.58      0.20      0.14    400000\n",
      "\n"
     ]
    }
   ],
   "source": [
    "print(report)"
   ]
  },
  {
   "cell_type": "code",
   "execution_count": null,
   "id": "cf7087fd",
   "metadata": {},
   "outputs": [],
   "source": []
  }
 ],
 "metadata": {
  "kernelspec": {
   "display_name": "Python 3 (ipykernel)",
   "language": "python",
   "name": "python3"
  },
  "language_info": {
   "codemirror_mode": {
    "name": "ipython",
    "version": 3
   },
   "file_extension": ".py",
   "mimetype": "text/x-python",
   "name": "python",
   "nbconvert_exporter": "python",
   "pygments_lexer": "ipython3",
   "version": "3.9.1"
  }
 },
 "nbformat": 4,
 "nbformat_minor": 5
}

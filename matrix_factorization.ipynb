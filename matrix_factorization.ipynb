{
 "cells": [
  {
   "cell_type": "code",
   "execution_count": 1,
   "metadata": {},
   "outputs": [],
   "source": [
    "import jax\n",
    "import numpy as np\n",
    "import jax.numpy as jnp\n",
    "import pylab as plt\n",
    "from scipy.sparse import csr_matrix\n",
    "import pandas as pd\n",
    "from sklearn.model_selection import train_test_split"
   ]
  },
  {
   "cell_type": "code",
   "execution_count": 2,
   "metadata": {},
   "outputs": [],
   "source": [
    "%matplotlib inline\n",
    "%load_ext autoreload\n",
    "%autoreload 1\n",
    "%aimport models.nmf\n",
    "from models.nmf import nmf"
   ]
  },
  {
   "cell_type": "markdown",
   "metadata": {},
   "source": [
    "## Data Analysis"
   ]
  },
  {
   "cell_type": "code",
   "execution_count": 3,
   "metadata": {},
   "outputs": [
    {
     "data": {
      "text/html": [
       "<div>\n",
       "<style scoped>\n",
       "    .dataframe tbody tr th:only-of-type {\n",
       "        vertical-align: middle;\n",
       "    }\n",
       "\n",
       "    .dataframe tbody tr th {\n",
       "        vertical-align: top;\n",
       "    }\n",
       "\n",
       "    .dataframe thead th {\n",
       "        text-align: right;\n",
       "    }\n",
       "</style>\n",
       "<table border=\"1\" class=\"dataframe\">\n",
       "  <thead>\n",
       "    <tr style=\"text-align: right;\">\n",
       "      <th></th>\n",
       "      <th>userID</th>\n",
       "      <th>songID</th>\n",
       "      <th>rating</th>\n",
       "    </tr>\n",
       "  </thead>\n",
       "  <tbody>\n",
       "    <tr>\n",
       "      <th>0</th>\n",
       "      <td>0</td>\n",
       "      <td>7171</td>\n",
       "      <td>5</td>\n",
       "    </tr>\n",
       "    <tr>\n",
       "      <th>1</th>\n",
       "      <td>0</td>\n",
       "      <td>8637</td>\n",
       "      <td>4</td>\n",
       "    </tr>\n",
       "    <tr>\n",
       "      <th>2</th>\n",
       "      <td>0</td>\n",
       "      <td>21966</td>\n",
       "      <td>4</td>\n",
       "    </tr>\n",
       "    <tr>\n",
       "      <th>3</th>\n",
       "      <td>0</td>\n",
       "      <td>35821</td>\n",
       "      <td>5</td>\n",
       "    </tr>\n",
       "    <tr>\n",
       "      <th>4</th>\n",
       "      <td>0</td>\n",
       "      <td>82446</td>\n",
       "      <td>5</td>\n",
       "    </tr>\n",
       "  </tbody>\n",
       "</table>\n",
       "</div>"
      ],
      "text/plain": [
       "   userID  songID  rating\n",
       "0       0    7171       5\n",
       "1       0    8637       4\n",
       "2       0   21966       4\n",
       "3       0   35821       5\n",
       "4       0   82446       5"
      ]
     },
     "execution_count": 3,
     "metadata": {},
     "output_type": "execute_result"
    }
   ],
   "source": [
    "# load data\n",
    "df = pd.read_csv('songsDataset.csv')\n",
    "df.columns = ['userID', 'songID', 'rating']\n",
    "df.head()"
   ]
  },
  {
   "cell_type": "code",
   "execution_count": 10,
   "metadata": {},
   "outputs": [
    {
     "name": "stdout",
     "output_type": "stream",
     "text": [
      "Number of unique users: 200000\n",
      "Number of unique songs: 127771\n",
      "All ratings = {1, 2, 3, 4, 5}\n"
     ]
    }
   ],
   "source": [
    "# basic data analysis: number of users and songs\n",
    "n_users, n_songs = len(set(df[\"userID\"].tolist())), len(set(df[\"songID\"].tolist()))\n",
    "all_ratings = set(df[\"rating\"].tolist())\n",
    "n_rating_levels = len(all_ratings)\n",
    "print(f'Number of unique users: {n_users}')\n",
    "print(f'Number of unique songs: {n_songs}')\n",
    "print(f'All ratings = {all_ratings}')  # no invalid ratings"
   ]
  },
  {
   "cell_type": "code",
   "execution_count": 5,
   "metadata": {},
   "outputs": [
    {
     "name": "stdout",
     "output_type": "stream",
     "text": [
      "Dataset before deduplication: 2000000 rows\n",
      "Dataset after deduplication: 2000000 rows\n"
     ]
    }
   ],
   "source": [
    "# check duplicates / invalid samples (same user, same, song, different ratings)\n",
    "print(f'Dataset before deduplication: {len(df)} rows')\n",
    "df = df.drop_duplicates(subset=['userID', 'songID']).reset_index(drop=True)\n",
    "print(f'Dataset after deduplication: {len(df)} rows')  # no "
   ]
  },
  {
   "cell_type": "code",
   "execution_count": 6,
   "metadata": {},
   "outputs": [
    {
     "name": "stdout",
     "output_type": "stream",
     "text": [
      "A user can give ratings to {10} songs\n",
      "A song can be rated by {1, 2, 3, 4, 5, 6, 7, 8, 9, 10, 11, 12, 13, 14, 15, 16, 17, 18, 19, 20, 21, 22, 23, 24, 25, 26, 27, 28, 29, 30, 31, 32, 33, 34, 35, 36, 37, 38, 39, 40, 41, 42, 43, 44, 45, 46, 47, 48, 49, 50, 51, 52, 53, 54, 55, 56, 57, 58, 59, 60, 61, 62, 63, 64, 65, 66, 67, 68, 69, 70, 71, 72, 73, 74, 75, 76, 77, 78, 79, 80, 81, 82, 83, 84, 85, 86, 87, 88, 89, 90, 91, 92, 93, 94, 95, 96, 97, 98, 99, 100, 101, 102, 103, 104, 105, 106, 107, 108, 109, 110, 111, 112, 113, 114, 115, 116, 117, 118, 119, 120, 121, 122, 123, 124, 125, 126, 127, 128, 129, 130, 131, 132, 133, 134, 135, 136, 137, 138, 139, 140, 141, 142, 143, 144, 145, 146, 147, 148, 149, 150, 151, 152, 153, 154, 155, 156, 157, 158, 159, 160, 161, 162, 163, 164, 165, 166, 167, 168, 169, 170, 171, 172, 173, 174, 175, 176, 177, 178, 179, 180, 181, 182, 183, 184, 185, 186, 187, 188, 189, 190, 191, 192, 193, 194, 195, 196, 197, 198, 199, 200, 201, 202, 203, 204, 205, 206, 207, 208, 209, 210, 211, 212, 213, 214, 215, 216, 217, 218, 219, 220, 221, 222, 223, 224, 225, 226, 227, 228, 229, 230, 231, 232, 233, 234, 235, 236, 237, 238, 239, 240, 241, 242, 243, 244, 245, 246, 247, 248, 249, 250, 251, 252, 253, 254, 255, 256, 257, 258, 259, 260, 261, 262, 263, 264, 265, 266, 267, 268, 269, 270, 271, 272, 273, 274, 275, 276, 277, 278, 279, 280, 281, 282, 283, 284, 285, 287, 288, 289, 290, 291, 292, 293, 294, 295, 296, 297, 298, 299, 300, 301, 302, 303, 304, 305, 306, 307, 308, 309, 310, 311, 312, 313, 314, 315, 316, 317, 318, 319, 320, 321, 322, 323, 324, 325, 327, 328, 329, 330, 331, 332, 333, 334, 335, 336, 337, 338, 339, 340, 341, 342, 343, 344, 346, 347, 348, 349, 350, 351, 352, 354, 355, 356, 357, 358, 359, 360, 361, 362, 363, 364, 365, 366, 367, 368, 369, 371, 372, 373, 374, 376, 378, 379, 380, 381, 382, 383, 384, 385, 386, 387, 388, 389, 390, 391, 392, 393, 395, 396, 397, 398, 399, 400, 401, 402, 403, 404, 405, 406, 407, 408, 409, 410, 411, 412, 413, 414, 415, 416, 417, 418, 419, 420, 421, 422, 423, 424, 425, 426, 427, 428, 429, 430, 431, 432, 433, 434, 435, 436, 437, 438, 439, 440, 441, 442, 443, 444, 445, 446, 447, 448, 449, 450, 452, 453, 454, 455, 456, 457, 458, 459, 460, 461, 462, 463, 464, 465, 467, 468, 469, 470, 471, 472, 474, 477, 480, 481, 482, 483, 485, 486, 488, 492, 493, 494, 496, 497, 499, 500, 501, 503, 504, 505, 506, 508, 513, 515, 517, 518, 519, 520, 521, 522, 523, 524, 525, 526, 530, 531, 532, 533, 534, 535, 536, 537, 539, 540, 541, 542, 544, 547, 548, 549, 550, 551, 552, 553, 555, 558, 560, 561, 562, 564, 568, 570, 571, 572, 573, 574, 575, 576, 577, 578, 581, 582, 583, 585, 586, 587, 588, 589, 590, 591, 592, 595, 600, 601, 603, 604, 605, 606, 607, 608, 609, 610, 612, 613, 616, 617, 620, 621, 622, 623, 624, 627, 629, 631, 632, 633, 634, 635, 636, 638, 640, 642, 646, 648, 652, 655, 656, 659, 665, 666, 668, 673, 674, 675, 676, 677, 678, 679, 681, 683, 684, 686, 687, 689, 691, 694, 695, 696, 699, 701, 702, 703, 704, 705, 709, 710, 711, 715, 717, 719, 720, 724, 727, 728, 730, 731, 736, 737, 738, 739, 741, 742, 746, 748, 751, 755, 758, 759, 760, 761, 765, 771, 776, 778, 780, 784, 785, 787, 788, 790, 791, 792, 798, 800, 810, 813, 814, 815, 817, 818, 820, 821, 824, 825, 831, 837, 840, 845, 846, 847, 852, 855, 864, 865, 871, 875, 878, 879, 880, 883, 886, 887, 889, 893, 902, 906, 919, 921, 924, 928, 929, 935, 936, 939, 964, 976, 985, 992, 994, 1023, 1025, 1040, 1064, 1066, 1068, 1076, 1085, 1089, 1092, 1097, 1114, 1119, 1143, 1144, 1158, 1173, 1178, 1180, 1184, 1187, 1215, 1219, 1221, 1243, 1254, 1260, 1262, 1286, 1294, 1296, 1300, 1325, 1326, 1327, 1329, 1341, 1361, 1413, 1439, 1474, 1483, 1491, 1516, 1534, 1536, 1548, 1557, 1583, 1600, 1720, 1880, 1904} users\n"
     ]
    }
   ],
   "source": [
    "# Number of songs a user typically rates\n",
    "user_rating_counts = df.groupby('userID')['songID'].count().reset_index()\n",
    "user_rating_counts.columns = ['userID', 'song_count']\n",
    "print(f'A user can give ratings to {set(user_rating_counts[\"song_count\"])} songs')\n",
    "\n",
    "# Number of users a song is typically rated by\n",
    "song_rating_counts = df.groupby('songID')['userID'].count().reset_index()\n",
    "song_rating_counts.columns = ['songID', 'user_count']\n",
    "print(f'A song can be rated by {set(song_rating_counts[\"user_count\"])} users')"
   ]
  },
  {
   "cell_type": "code",
   "execution_count": 7,
   "metadata": {},
   "outputs": [
    {
     "name": "stdout",
     "output_type": "stream",
     "text": [
      "127771 200000\n"
     ]
    }
   ],
   "source": [
    "# generate consecutive indices for users and songs\n",
    "all_song_idx, all_user_idx = sorted(list(set(df.songID.values))), sorted(list(set(df.userID.values)))\n",
    "print(len(all_song_idx), len(all_user_idx))\n",
    "song_idx_dict = {song_id: i for i, song_id in enumerate(all_song_idx)}\n",
    "user_idx_dict = {user_id: i for i, user_id in enumerate(all_user_idx)}\n",
    "df['userID'] = df['userID'].apply(lambda x: user_idx_dict[x])\n",
    "df['songID'] = df['songID'].apply(lambda x: song_idx_dict[x])"
   ]
  },
  {
   "cell_type": "code",
   "execution_count": 27,
   "metadata": {},
   "outputs": [
    {
     "name": "stdout",
     "output_type": "stream",
     "text": [
      "(200000, 127771) (200000, 127771) (200000, 127771)\n"
     ]
    }
   ],
   "source": [
    "def generate_rating_matrix(df, total_df):\n",
    "    # create rating matrix of shape (number of users, number of songs)\n",
    "    ratings = csr_matrix(\n",
    "        (df.rating.values, (df.userID.values, df.songID.values)), \n",
    "        shape=(len(total_df.userID.unique()), len(total_df.songID.unique()))\n",
    "    ).toarray()\n",
    "    return ratings\n",
    "\n",
    "train, test = train_test_split(df, test_size=0.2, random_state=42)\n",
    "train, val = train_test_split(train, test_size=0.2, random_state=42)\n",
    "ratings_train, ratings_val, ratings_test = generate_rating_matrix(train, df), \\\n",
    "    generate_rating_matrix(val, df), generate_rating_matrix(test, df)\n",
    "print(ratings_train.shape, ratings_val.shape, ratings_test.shape)"
   ]
  },
  {
   "cell_type": "markdown",
   "metadata": {},
   "source": [
    "## Matrix Fatorization"
   ]
  },
  {
   "cell_type": "code",
   "execution_count": 45,
   "metadata": {},
   "outputs": [
    {
     "name": "stdout",
     "output_type": "stream",
     "text": [
      "200000 127771 8 5\n",
      "Epoch 0 | training loss = 0.1009 | validation loss = 0.1286\n",
      "Epoch 10 | training loss = 0.1052 | validation loss = 0.1125\n",
      "Epoch 20 | training loss = 0.1481 | validation loss = 0.1144\n",
      "Epoch 30 | training loss = 0.1201 | validation loss = 0.1086\n",
      "Epoch 40 | training loss = 0.0950 | validation loss = 0.1093\n",
      "Epoch 50 | training loss = 0.0957 | validation loss = 0.1217\n",
      "Epoch 60 | training loss = 0.1077 | validation loss = 0.1067\n",
      "Epoch 70 | training loss = 0.1089 | validation loss = 0.1233\n",
      "Epoch 80 | training loss = 0.1728 | validation loss = 0.1019\n",
      "Epoch 90 | training loss = 0.1313 | validation loss = 0.1108\n",
      "Epoch 100 | training loss = 0.1125 | validation loss = 0.1368\n",
      "Epoch 110 | training loss = 0.0974 | validation loss = 0.1322\n",
      "Epoch 120 | training loss = 0.0941 | validation loss = 0.1260\n",
      "Epoch 130 | training loss = 0.0968 | validation loss = 0.1074\n",
      "Epoch 140 | training loss = 0.0937 | validation loss = 0.1292\n",
      "Epoch 150 | training loss = 0.0886 | validation loss = 0.1153\n",
      "Epoch 160 | training loss = 0.1223 | validation loss = 0.1204\n",
      "Epoch 170 | training loss = 0.0886 | validation loss = 0.1450\n",
      "Epoch 180 | training loss = 0.0690 | validation loss = 0.1374\n",
      "Epoch 190 | training loss = 0.1184 | validation loss = 0.1311\n",
      "Epoch 200 | training loss = 0.1228 | validation loss = 0.1184\n",
      "Epoch 210 | training loss = 0.1388 | validation loss = 0.1257\n",
      "Epoch 220 | training loss = 0.1336 | validation loss = 0.1026\n",
      "Epoch 230 | training loss = 0.0997 | validation loss = 0.1177\n",
      "Epoch 240 | training loss = 0.1013 | validation loss = 0.0899\n",
      "Epoch 250 | training loss = 0.0908 | validation loss = 0.0920\n",
      "Epoch 260 | training loss = 0.1295 | validation loss = 0.1086\n",
      "Epoch 270 | training loss = 0.1120 | validation loss = 0.0931\n",
      "Epoch 280 | training loss = 0.1054 | validation loss = 0.1038\n",
      "Epoch 290 | training loss = 0.0976 | validation loss = 0.0891\n",
      "Epoch 300 | training loss = 0.1160 | validation loss = 0.0828\n",
      "Epoch 310 | training loss = 0.0948 | validation loss = 0.0981\n",
      "Epoch 320 | training loss = 0.0659 | validation loss = 0.0704\n",
      "Epoch 330 | training loss = 0.1122 | validation loss = 0.0919\n",
      "Epoch 340 | training loss = 0.0684 | validation loss = 0.1076\n",
      "Epoch 350 | training loss = 0.1401 | validation loss = 0.0886\n",
      "Epoch 360 | training loss = 0.1152 | validation loss = 0.1023\n",
      "Epoch 370 | training loss = 0.0871 | validation loss = 0.0941\n",
      "Epoch 380 | training loss = 0.0747 | validation loss = 0.1112\n",
      "Epoch 390 | training loss = 0.0867 | validation loss = 0.0924\n",
      "Epoch 400 | training loss = 0.1099 | validation loss = 0.0962\n",
      "Epoch 410 | training loss = 0.0858 | validation loss = 0.0971\n",
      "Epoch 420 | training loss = 0.0945 | validation loss = 0.0842\n",
      "Epoch 430 | training loss = 0.0814 | validation loss = 0.1097\n",
      "Epoch 440 | training loss = 0.0913 | validation loss = 0.0703\n",
      "Epoch 450 | training loss = 0.0993 | validation loss = 0.0939\n",
      "Epoch 460 | training loss = 0.0886 | validation loss = 0.0940\n",
      "Epoch 470 | training loss = 0.0752 | validation loss = 0.0913\n",
      "Epoch 480 | training loss = 0.0745 | validation loss = 0.0828\n",
      "Epoch 490 | training loss = 0.0850 | validation loss = 0.1204\n",
      "Epoch 500 | training loss = 0.0884 | validation loss = 0.0747\n",
      "Epoch 510 | training loss = 0.1119 | validation loss = 0.0727\n",
      "Epoch 520 | training loss = 0.0850 | validation loss = 0.0809\n",
      "Epoch 530 | training loss = 0.0831 | validation loss = 0.0819\n",
      "Epoch 540 | training loss = 0.0840 | validation loss = 0.0950\n",
      "Epoch 550 | training loss = 0.0774 | validation loss = 0.0912\n",
      "Epoch 560 | training loss = 0.0965 | validation loss = 0.0543\n",
      "Epoch 570 | training loss = 0.0749 | validation loss = 0.0767\n",
      "Epoch 580 | training loss = 0.0939 | validation loss = 0.0814\n",
      "Epoch 590 | training loss = 0.0675 | validation loss = 0.0677\n",
      "Epoch 600 | training loss = 0.0764 | validation loss = 0.0965\n",
      "Epoch 610 | training loss = 0.0858 | validation loss = 0.0632\n",
      "Epoch 620 | training loss = 0.0800 | validation loss = 0.0701\n",
      "Epoch 630 | training loss = 0.0844 | validation loss = 0.1231\n",
      "Epoch 640 | training loss = 0.0894 | validation loss = 0.0877\n",
      "Epoch 650 | training loss = 0.0930 | validation loss = 0.0749\n",
      "Epoch 660 | training loss = 0.0781 | validation loss = 0.0752\n",
      "Epoch 670 | training loss = 0.1063 | validation loss = 0.0773\n",
      "Epoch 680 | training loss = 0.0755 | validation loss = 0.0835\n",
      "Epoch 690 | training loss = 0.0736 | validation loss = 0.0704\n",
      "Epoch 700 | training loss = 0.0689 | validation loss = 0.0788\n",
      "Epoch 710 | training loss = 0.0579 | validation loss = 0.0681\n",
      "Epoch 720 | training loss = 0.0720 | validation loss = 0.0651\n",
      "Epoch 730 | training loss = 0.1016 | validation loss = 0.0617\n",
      "Epoch 740 | training loss = 0.0784 | validation loss = 0.0710\n",
      "Epoch 750 | training loss = 0.0597 | validation loss = 0.0690\n",
      "Epoch 760 | training loss = 0.0828 | validation loss = 0.1106\n",
      "Epoch 770 | training loss = 0.0713 | validation loss = 0.0914\n",
      "Epoch 780 | training loss = 0.0777 | validation loss = 0.0616\n",
      "Epoch 790 | training loss = 0.0889 | validation loss = 0.0863\n",
      "Epoch 800 | training loss = 0.0939 | validation loss = 0.0758\n",
      "Epoch 810 | training loss = 0.0640 | validation loss = 0.0962\n",
      "Epoch 820 | training loss = 0.0749 | validation loss = 0.0661\n",
      "Epoch 830 | training loss = 0.0682 | validation loss = 0.0670\n",
      "Epoch 840 | training loss = 0.0597 | validation loss = 0.0493\n",
      "Epoch 850 | training loss = 0.0841 | validation loss = 0.0502\n",
      "Epoch 860 | training loss = 0.0598 | validation loss = 0.0714\n",
      "Epoch 870 | training loss = 0.0706 | validation loss = 0.0963\n",
      "Epoch 880 | training loss = 0.0854 | validation loss = 0.0792\n",
      "Epoch 890 | training loss = 0.0682 | validation loss = 0.0707\n",
      "Epoch 900 | training loss = 0.0884 | validation loss = 0.0821\n",
      "Epoch 910 | training loss = 0.0484 | validation loss = 0.0656\n",
      "Epoch 920 | training loss = 0.0634 | validation loss = 0.0588\n",
      "Epoch 930 | training loss = 0.0672 | validation loss = 0.0712\n",
      "Epoch 940 | training loss = 0.0561 | validation loss = 0.0805\n",
      "Epoch 950 | training loss = 0.0824 | validation loss = 0.0866\n",
      "Epoch 960 | training loss = 0.0894 | validation loss = 0.0754\n",
      "Epoch 970 | training loss = 0.0708 | validation loss = 0.0758\n",
      "Epoch 980 | training loss = 0.0717 | validation loss = 0.0642\n",
      "Epoch 990 | training loss = 0.0899 | validation loss = 0.0583\n"
     ]
    }
   ],
   "source": [
    "n_factors = 8\n",
    "n_epochs = 1000\n",
    "learning_rate = 0.01\n",
    "lambda_reg = 0.001\n",
    "n_batches = 1000\n",
    "batch_size = 128\n",
    "print(n_users, n_songs, n_factors, n_rating_levels)\n",
    "model = nmf(n_users, n_songs, n_factors)\n",
    "train_losses, val_losses = model.train(ratings_train, ratings_val, n_epochs, learning_rate, lambda_reg, n_batches, batch_size)"
   ]
  },
  {
   "cell_type": "code",
   "execution_count": 42,
   "metadata": {},
   "outputs": [
    {
     "data": {
      "text/plain": [
       "(1280000, 3)"
      ]
     },
     "execution_count": 42,
     "metadata": {},
     "output_type": "execute_result"
    }
   ],
   "source": [
    "train.shape"
   ]
  },
  {
   "cell_type": "code",
   "execution_count": 46,
   "metadata": {},
   "outputs": [
    {
     "data": {
      "image/png": "[encoded data removed]",
      "text/plain": [
       "<Figure size 640x480 with 1 Axes>"
      ]
     },
     "metadata": {},
     "output_type": "display_data"
    }
   ],
   "source": [
    "# Plot training loss in blue\n",
    "plt.plot(train_losses, color='blue', label='Training Loss')\n",
    "plt.plot(val_losses, color='orange', label='Validation Loss')\n",
    "plt.xlabel('Epoch')\n",
    "plt.ylabel('Loss')\n",
    "plt.title('Training and Validation Loss')\n",
    "plt.legend()\n",
    "plt.show()"
   ]
  }
 ],
 "metadata": {
  "kernelspec": {
   "display_name": "repos",
   "language": "python",
   "name": "python3"
  },
  "language_info": {
   "codemirror_mode": {
    "name": "ipython",
    "version": 3
   },
   "file_extension": ".py",
   "mimetype": "text/x-python",
   "name": "python",
   "nbconvert_exporter": "python",
   "pygments_lexer": "ipython3",
   "version": "3.10.9"
  }
 },
 "nbformat": 4,
 "nbformat_minor": 2
}

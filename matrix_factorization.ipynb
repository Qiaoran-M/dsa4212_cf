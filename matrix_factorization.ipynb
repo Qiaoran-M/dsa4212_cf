{
 "cells": [
  {
   "cell_type": "code",
   "execution_count": 1,
   "metadata": {},
   "outputs": [],
   "source": [
    "import jax\n",
    "import numpy as np\n",
    "import jax.numpy as jnp\n",
    "import pylab as plt\n",
    "from scipy.sparse import csr_matrix\n",
    "import pandas as pd\n",
    "from sklearn.model_selection import train_test_split"
   ]
  },
  {
   "cell_type": "code",
   "execution_count": 2,
   "metadata": {},
   "outputs": [],
   "source": [
    "%matplotlib inline\n",
    "%load_ext autoreload\n",
    "%autoreload 1\n",
    "%aimport models.nmf\n",
    "from models.nmf import nmf"
   ]
  },
  {
   "cell_type": "markdown",
   "metadata": {},
   "source": [
    "## Data Analysis"
   ]
  },
  {
   "cell_type": "code",
   "execution_count": 3,
   "metadata": {},
   "outputs": [
    {
     "data": {
      "text/html": [
       "<div>\n",
       "<style scoped>\n",
       "    .dataframe tbody tr th:only-of-type {\n",
       "        vertical-align: middle;\n",
       "    }\n",
       "\n",
       "    .dataframe tbody tr th {\n",
       "        vertical-align: top;\n",
       "    }\n",
       "\n",
       "    .dataframe thead th {\n",
       "        text-align: right;\n",
       "    }\n",
       "</style>\n",
       "<table border=\"1\" class=\"dataframe\">\n",
       "  <thead>\n",
       "    <tr style=\"text-align: right;\">\n",
       "      <th></th>\n",
       "      <th>userID</th>\n",
       "      <th>songID</th>\n",
       "      <th>rating</th>\n",
       "    </tr>\n",
       "  </thead>\n",
       "  <tbody>\n",
       "    <tr>\n",
       "      <th>0</th>\n",
       "      <td>0</td>\n",
       "      <td>7171</td>\n",
       "      <td>5</td>\n",
       "    </tr>\n",
       "    <tr>\n",
       "      <th>1</th>\n",
       "      <td>0</td>\n",
       "      <td>8637</td>\n",
       "      <td>4</td>\n",
       "    </tr>\n",
       "    <tr>\n",
       "      <th>2</th>\n",
       "      <td>0</td>\n",
       "      <td>21966</td>\n",
       "      <td>4</td>\n",
       "    </tr>\n",
       "    <tr>\n",
       "      <th>3</th>\n",
       "      <td>0</td>\n",
       "      <td>35821</td>\n",
       "      <td>5</td>\n",
       "    </tr>\n",
       "    <tr>\n",
       "      <th>4</th>\n",
       "      <td>0</td>\n",
       "      <td>82446</td>\n",
       "      <td>5</td>\n",
       "    </tr>\n",
       "  </tbody>\n",
       "</table>\n",
       "</div>"
      ],
      "text/plain": [
       "   userID  songID  rating\n",
       "0       0    7171       5\n",
       "1       0    8637       4\n",
       "2       0   21966       4\n",
       "3       0   35821       5\n",
       "4       0   82446       5"
      ]
     },
     "execution_count": 3,
     "metadata": {},
     "output_type": "execute_result"
    }
   ],
   "source": [
    "# load data\n",
    "df = pd.read_csv('songsDataset.csv')\n",
    "df.columns = ['userID', 'songID', 'rating']\n",
    "df.head()"
   ]
  },
  {
   "cell_type": "code",
   "execution_count": 4,
   "metadata": {},
   "outputs": [
    {
     "name": "stdout",
     "output_type": "stream",
     "text": [
      "Number of unique users: 200000\n",
      "Number of unique songs: 127771\n",
      "All ratings = {1, 2, 3, 4, 5}\n"
     ]
    }
   ],
   "source": [
    "# basic data analysis: number of users and songs\n",
    "n_users, n_songs = len(set(df[\"userID\"].tolist())), len(set(df[\"songID\"].tolist()))\n",
    "all_ratings = set(df[\"rating\"].tolist())\n",
    "n_rating_levels = len(all_ratings)\n",
    "print(f'Number of unique users: {n_users}')\n",
    "print(f'Number of unique songs: {n_songs}')\n",
    "print(f'All ratings = {all_ratings}')  # no invalid ratings"
   ]
  },
  {
   "cell_type": "code",
   "execution_count": 5,
   "metadata": {},
   "outputs": [
    {
     "name": "stdout",
     "output_type": "stream",
     "text": [
      "Dataset before deduplication: 2000000 rows\n",
      "Dataset after deduplication: 2000000 rows\n"
     ]
    }
   ],
   "source": [
    "# check duplicates / invalid samples (same user, same, song, different ratings)\n",
    "print(f'Dataset before deduplication: {len(df)} rows')\n",
    "df = df.drop_duplicates(subset=['userID', 'songID']).reset_index(drop=True)\n",
    "print(f'Dataset after deduplication: {len(df)} rows')  # no "
   ]
  },
  {
   "cell_type": "code",
   "execution_count": 6,
   "metadata": {},
   "outputs": [
    {
     "name": "stdout",
     "output_type": "stream",
     "text": [
      "A user can give ratings to {10} songs\n",
      "A song can be rated by {1, 2, 3, 4, 5, 6, 7, 8, 9, 10, 11, 12, 13, 14, 15, 16, 17, 18, 19, 20, 21, 22, 23, 24, 25, 26, 27, 28, 29, 30, 31, 32, 33, 34, 35, 36, 37, 38, 39, 40, 41, 42, 43, 44, 45, 46, 47, 48, 49, 50, 51, 52, 53, 54, 55, 56, 57, 58, 59, 60, 61, 62, 63, 64, 65, 66, 67, 68, 69, 70, 71, 72, 73, 74, 75, 76, 77, 78, 79, 80, 81, 82, 83, 84, 85, 86, 87, 88, 89, 90, 91, 92, 93, 94, 95, 96, 97, 98, 99, 100, 101, 102, 103, 104, 105, 106, 107, 108, 109, 110, 111, 112, 113, 114, 115, 116, 117, 118, 119, 120, 121, 122, 123, 124, 125, 126, 127, 128, 129, 130, 131, 132, 133, 134, 135, 136, 137, 138, 139, 140, 141, 142, 143, 144, 145, 146, 147, 148, 149, 150, 151, 152, 153, 154, 155, 156, 157, 158, 159, 160, 161, 162, 163, 164, 165, 166, 167, 168, 169, 170, 171, 172, 173, 174, 175, 176, 177, 178, 179, 180, 181, 182, 183, 184, 185, 186, 187, 188, 189, 190, 191, 192, 193, 194, 195, 196, 197, 198, 199, 200, 201, 202, 203, 204, 205, 206, 207, 208, 209, 210, 211, 212, 213, 214, 215, 216, 217, 218, 219, 220, 221, 222, 223, 224, 225, 226, 227, 228, 229, 230, 231, 232, 233, 234, 235, 236, 237, 238, 239, 240, 241, 242, 243, 244, 245, 246, 247, 248, 249, 250, 251, 252, 253, 254, 255, 256, 257, 258, 259, 260, 261, 262, 263, 264, 265, 266, 267, 268, 269, 270, 271, 272, 273, 274, 275, 276, 277, 278, 279, 280, 281, 282, 283, 284, 285, 287, 288, 289, 290, 291, 292, 293, 294, 295, 296, 297, 298, 299, 300, 301, 302, 303, 304, 305, 306, 307, 308, 309, 310, 311, 312, 313, 314, 315, 316, 317, 318, 319, 320, 321, 322, 323, 324, 325, 327, 328, 329, 330, 331, 332, 333, 334, 335, 336, 337, 338, 339, 340, 341, 342, 343, 344, 346, 347, 348, 349, 350, 351, 352, 354, 355, 356, 357, 358, 359, 360, 361, 362, 363, 364, 365, 366, 367, 368, 369, 371, 372, 373, 374, 376, 378, 379, 380, 381, 382, 383, 384, 385, 386, 387, 388, 389, 390, 391, 392, 393, 395, 396, 397, 398, 399, 400, 401, 402, 403, 404, 405, 406, 407, 408, 409, 410, 411, 412, 413, 414, 415, 416, 417, 418, 419, 420, 421, 422, 423, 424, 425, 426, 427, 428, 429, 430, 431, 432, 433, 434, 435, 436, 437, 438, 439, 440, 441, 442, 443, 444, 445, 446, 447, 448, 449, 450, 452, 453, 454, 455, 456, 457, 458, 459, 460, 461, 462, 463, 464, 465, 467, 468, 469, 470, 471, 472, 474, 477, 480, 481, 482, 483, 485, 486, 488, 492, 493, 494, 496, 497, 499, 500, 501, 503, 504, 505, 506, 508, 513, 515, 517, 518, 519, 520, 521, 522, 523, 524, 525, 526, 530, 531, 532, 533, 534, 535, 536, 537, 539, 540, 541, 542, 544, 547, 548, 549, 550, 551, 552, 553, 555, 558, 560, 561, 562, 564, 568, 570, 571, 572, 573, 574, 575, 576, 577, 578, 581, 582, 583, 585, 586, 587, 588, 589, 590, 591, 592, 595, 600, 601, 603, 604, 605, 606, 607, 608, 609, 610, 612, 613, 616, 617, 620, 621, 622, 623, 624, 627, 629, 631, 632, 633, 634, 635, 636, 638, 640, 642, 646, 648, 652, 655, 656, 659, 665, 666, 668, 673, 674, 675, 676, 677, 678, 679, 681, 683, 684, 686, 687, 689, 691, 694, 695, 696, 699, 701, 702, 703, 704, 705, 709, 710, 711, 715, 717, 719, 720, 724, 727, 728, 730, 731, 736, 737, 738, 739, 741, 742, 746, 748, 751, 755, 758, 759, 760, 761, 765, 771, 776, 778, 780, 784, 785, 787, 788, 790, 791, 792, 798, 800, 810, 813, 814, 815, 817, 818, 820, 821, 824, 825, 831, 837, 840, 845, 846, 847, 852, 855, 864, 865, 871, 875, 878, 879, 880, 883, 886, 887, 889, 893, 902, 906, 919, 921, 924, 928, 929, 935, 936, 939, 964, 976, 985, 992, 994, 1023, 1025, 1040, 1064, 1066, 1068, 1076, 1085, 1089, 1092, 1097, 1114, 1119, 1143, 1144, 1158, 1173, 1178, 1180, 1184, 1187, 1215, 1219, 1221, 1243, 1254, 1260, 1262, 1286, 1294, 1296, 1300, 1325, 1326, 1327, 1329, 1341, 1361, 1413, 1439, 1474, 1483, 1491, 1516, 1534, 1536, 1548, 1557, 1583, 1600, 1720, 1880, 1904} users\n"
     ]
    }
   ],
   "source": [
    "# Number of songs a user typically rates\n",
    "user_rating_counts = df.groupby('userID')['songID'].count().reset_index()\n",
    "user_rating_counts.columns = ['userID', 'song_count']\n",
    "print(f'A user can give ratings to {set(user_rating_counts[\"song_count\"])} songs')\n",
    "\n",
    "# Number of users a song is typically rated by\n",
    "song_rating_counts = df.groupby('songID')['userID'].count().reset_index()\n",
    "song_rating_counts.columns = ['songID', 'user_count']\n",
    "print(f'A song can be rated by {set(song_rating_counts[\"user_count\"])} users')"
   ]
  },
  {
   "cell_type": "code",
   "execution_count": 7,
   "metadata": {},
   "outputs": [
    {
     "name": "stdout",
     "output_type": "stream",
     "text": [
      "127771 200000\n"
     ]
    }
   ],
   "source": [
    "# generate consecutive indices for users and songs\n",
    "all_song_idx, all_user_idx = sorted(list(set(df.songID.values))), sorted(list(set(df.userID.values)))\n",
    "print(len(all_song_idx), len(all_user_idx))\n",
    "song_idx_dict = {song_id: i for i, song_id in enumerate(all_song_idx)}\n",
    "user_idx_dict = {user_id: i for i, user_id in enumerate(all_user_idx)}\n",
    "df['userID'] = df['userID'].apply(lambda x: user_idx_dict[x])\n",
    "df['songID'] = df['songID'].apply(lambda x: song_idx_dict[x])"
   ]
  },
  {
   "cell_type": "code",
   "execution_count": 8,
   "metadata": {},
   "outputs": [
    {
     "name": "stdout",
     "output_type": "stream",
     "text": [
      "(200000, 127771) (200000, 127771) (200000, 127771)\n"
     ]
    }
   ],
   "source": [
    "def generate_rating_matrix(df, total_df):\n",
    "    # create rating matrix of shape (number of users, number of songs)\n",
    "    ratings = csr_matrix(\n",
    "        (df.rating.values, (df.userID.values, df.songID.values)), \n",
    "        shape=(len(total_df.userID.unique()), len(total_df.songID.unique()))\n",
    "    )\n",
    "    return (ratings.toarray(), ratings.nonzero())\n",
    "\n",
    "train, test = train_test_split(df, test_size=0.2, random_state=42)\n",
    "train, val = train_test_split(train, test_size=0.2, random_state=42)\n",
    "train_data, val_data, test_data = generate_rating_matrix(train, df), \\\n",
    "    generate_rating_matrix(val, df), generate_rating_matrix(test, df)\n",
    "print(train_data[0].shape, val_data[0].shape, test_data[0].shape)"
   ]
  },
  {
   "cell_type": "markdown",
   "metadata": {},
   "source": [
    "## Matrix Fatorization"
   ]
  },
  {
   "cell_type": "code",
   "execution_count": 56,
   "metadata": {},
   "outputs": [
    {
     "name": "stdout",
     "output_type": "stream",
     "text": [
      "Epoch 0 | training loss = 214.9670 | validation loss = 210.8680\n",
      "Epoch 10 | training loss = 101.7375 | validation loss = 210.7608\n",
      "Epoch 20 | training loss = 100.5818 | validation loss = 210.6535\n",
      "Epoch 30 | training loss = 99.4259 | validation loss = 210.5462\n",
      "Epoch 40 | training loss = 98.2763 | validation loss = 210.4388\n",
      "Epoch 50 | training loss = 97.1279 | validation loss = 210.3315\n",
      "Epoch 60 | training loss = 95.9980 | validation loss = 210.2278\n",
      "Epoch 70 | training loss = 94.9189 | validation loss = 210.1303\n",
      "Epoch 80 | training loss = 93.8396 | validation loss = 210.0327\n",
      "Epoch 90 | training loss = 92.7600 | validation loss = 209.9352\n",
      "Epoch 100 | training loss = 91.6803 | validation loss = 209.8376\n",
      "Epoch 110 | training loss = 90.6003 | validation loss = 209.7400\n",
      "Epoch 120 | training loss = 89.5201 | validation loss = 209.6424\n",
      "Epoch 130 | training loss = 88.4471 | validation loss = 209.5448\n",
      "Epoch 140 | training loss = 87.3853 | validation loss = 209.4471\n",
      "Epoch 150 | training loss = 86.3233 | validation loss = 209.3495\n",
      "Epoch 160 | training loss = 85.2610 | validation loss = 209.2518\n",
      "Epoch 170 | training loss = 84.2081 | validation loss = 209.1541\n",
      "Epoch 180 | training loss = 83.1853 | validation loss = 209.0565\n",
      "Epoch 190 | training loss = 82.1622 | validation loss = 208.9588\n",
      "Epoch 200 | training loss = 81.1442 | validation loss = 208.8610\n",
      "Epoch 210 | training loss = 80.1295 | validation loss = 208.7633\n",
      "Epoch 220 | training loss = 79.1658 | validation loss = 208.6726\n",
      "Epoch 230 | training loss = 78.2391 | validation loss = 208.5853\n",
      "Epoch 240 | training loss = 77.3121 | validation loss = 208.4979\n",
      "Epoch 250 | training loss = 76.3848 | validation loss = 208.4105\n",
      "Epoch 260 | training loss = 75.4573 | validation loss = 208.3231\n",
      "Epoch 270 | training loss = 74.5295 | validation loss = 208.2357\n",
      "Epoch 280 | training loss = 73.6159 | validation loss = 208.1623\n",
      "Epoch 290 | training loss = 72.7185 | validation loss = 208.1048\n",
      "Epoch 300 | training loss = 71.8276 | validation loss = 208.0472\n",
      "Epoch 310 | training loss = 70.9365 | validation loss = 207.9897\n",
      "Epoch 320 | training loss = 70.0473 | validation loss = 207.9321\n",
      "Epoch 330 | training loss = 69.1675 | validation loss = 207.8746\n",
      "Epoch 340 | training loss = 68.2987 | validation loss = 207.8170\n",
      "Epoch 350 | training loss = 67.4465 | validation loss = 207.7594\n",
      "Epoch 360 | training loss = 66.5939 | validation loss = 207.7018\n",
      "Epoch 370 | training loss = 65.7449 | validation loss = 207.6442\n",
      "Epoch 380 | training loss = 64.9197 | validation loss = 207.5866\n",
      "Epoch 390 | training loss = 64.1066 | validation loss = 207.5289\n",
      "Epoch 400 | training loss = 63.3026 | validation loss = 207.4713\n",
      "Epoch 410 | training loss = 62.4983 | validation loss = 207.4136\n",
      "Epoch 420 | training loss = 61.6937 | validation loss = 207.3559\n",
      "Epoch 430 | training loss = 60.8941 | validation loss = 207.2982\n",
      "Epoch 440 | training loss = 60.1177 | validation loss = 207.2439\n",
      "Epoch 450 | training loss = 59.4000 | validation loss = 207.1958\n",
      "Epoch 460 | training loss = 58.6819 | validation loss = 207.1478\n",
      "Epoch 470 | training loss = 57.9687 | validation loss = 207.0998\n",
      "Epoch 480 | training loss = 57.2598 | validation loss = 207.0517\n",
      "Epoch 490 | training loss = 56.5541 | validation loss = 207.0037\n",
      "Epoch 500 | training loss = 55.8587 | validation loss = 206.9556\n",
      "Epoch 510 | training loss = 55.1674 | validation loss = 206.9075\n",
      "Epoch 520 | training loss = 54.4758 | validation loss = 206.8594\n",
      "Epoch 530 | training loss = 53.7841 | validation loss = 206.8113\n",
      "Epoch 540 | training loss = 53.0964 | validation loss = 206.7633\n",
      "Epoch 550 | training loss = 52.4140 | validation loss = 206.7152\n",
      "Epoch 560 | training loss = 51.7393 | validation loss = 206.6671\n",
      "Epoch 570 | training loss = 51.0699 | validation loss = 206.6190\n",
      "Epoch 580 | training loss = 50.4068 | validation loss = 206.5709\n",
      "Epoch 590 | training loss = 49.7435 | validation loss = 206.5228\n",
      "Epoch 600 | training loss = 49.0848 | validation loss = 206.4746\n",
      "Epoch 610 | training loss = 48.4388 | validation loss = 206.4265\n",
      "Epoch 620 | training loss = 47.8030 | validation loss = 206.3784\n",
      "Epoch 630 | training loss = 47.1669 | validation loss = 206.3303\n",
      "Epoch 640 | training loss = 46.5388 | validation loss = 206.2821\n",
      "Epoch 650 | training loss = 45.9122 | validation loss = 206.2340\n",
      "Epoch 660 | training loss = 45.2871 | validation loss = 206.1859\n",
      "Epoch 670 | training loss = 44.6792 | validation loss = 206.1377\n",
      "Epoch 680 | training loss = 44.0718 | validation loss = 206.0895\n",
      "Epoch 690 | training loss = 43.4641 | validation loss = 206.0414\n",
      "Epoch 700 | training loss = 42.8622 | validation loss = 205.9932\n",
      "Epoch 710 | training loss = 42.2693 | validation loss = 205.9450\n",
      "Epoch 720 | training loss = 41.6886 | validation loss = 205.8969\n",
      "Epoch 730 | training loss = 41.1090 | validation loss = 205.8487\n",
      "Epoch 740 | training loss = 40.5372 | validation loss = 205.8005\n",
      "Epoch 750 | training loss = 39.9787 | validation loss = 205.7523\n",
      "Epoch 760 | training loss = 39.4285 | validation loss = 205.7041\n",
      "Epoch 770 | training loss = 38.8825 | validation loss = 205.6558\n",
      "Epoch 780 | training loss = 38.3477 | validation loss = 205.6076\n",
      "Epoch 790 | training loss = 37.8155 | validation loss = 205.5594\n",
      "Epoch 800 | training loss = 37.2861 | validation loss = 205.5111\n",
      "Epoch 810 | training loss = 36.7770 | validation loss = 205.4629\n",
      "Epoch 820 | training loss = 36.2802 | validation loss = 205.4147\n",
      "Epoch 830 | training loss = 35.7955 | validation loss = 205.3664\n",
      "Epoch 840 | training loss = 35.3115 | validation loss = 205.3182\n",
      "Epoch 850 | training loss = 34.8274 | validation loss = 205.2699\n",
      "Epoch 860 | training loss = 34.3430 | validation loss = 205.2216\n",
      "Epoch 870 | training loss = 33.9258 | validation loss = 205.1734\n",
      "Epoch 880 | training loss = 33.5306 | validation loss = 205.1251\n",
      "Epoch 890 | training loss = 33.1434 | validation loss = 205.0769\n",
      "Epoch 900 | training loss = 32.7562 | validation loss = 205.0286\n",
      "Epoch 910 | training loss = 32.3688 | validation loss = 204.9803\n",
      "Epoch 920 | training loss = 31.9814 | validation loss = 204.9321\n",
      "Epoch 930 | training loss = 31.5978 | validation loss = 204.8838\n",
      "Epoch 940 | training loss = 31.2203 | validation loss = 204.8355\n",
      "Epoch 950 | training loss = 30.8447 | validation loss = 204.7872\n",
      "Epoch 960 | training loss = 30.4871 | validation loss = 204.7390\n",
      "Epoch 970 | training loss = 30.1394 | validation loss = 204.6907\n",
      "Epoch 980 | training loss = 29.7917 | validation loss = 204.6424\n",
      "Epoch 990 | training loss = 29.4439 | validation loss = 204.5941\n"
     ]
    }
   ],
   "source": [
    "n_factors = 1\n",
    "n_epochs = 1000\n",
    "learning_rate = 0.001\n",
    "lambda_reg = 1\n",
    "batch_size = 128\n",
    "model = nmf(n_users, n_songs, n_factors)\n",
    "train_losses, val_losses = model.train(train_data, val_data, n_epochs, learning_rate, lambda_reg, batch_size)"
   ]
  },
  {
   "cell_type": "code",
   "execution_count": 57,
   "metadata": {},
   "outputs": [
    {
     "data": {
      "image/png": "[encoded data removed]",
      "text/plain": [
       "<Figure size 640x480 with 1 Axes>"
      ]
     },
     "metadata": {},
     "output_type": "display_data"
    }
   ],
   "source": [
    "# Plot training loss in blue\n",
    "plt.plot(train_losses, color='blue', label='Training Loss')\n",
    "plt.plot(val_losses, color='orange', label='Validation Loss')\n",
    "plt.xlabel('Epoch')\n",
    "plt.ylabel('Loss')\n",
    "plt.title('Training and Validation Loss')\n",
    "plt.legend()\n",
    "plt.show()"
   ]
  },
  {
   "cell_type": "code",
   "execution_count": 58,
   "metadata": {},
   "outputs": [],
   "source": [
    "pred, true = model.predict(test_data)"
   ]
  },
  {
   "cell_type": "code",
   "execution_count": 59,
   "metadata": {},
   "outputs": [
    {
     "data": {
      "text/plain": [
       "(Array([ 0.        , -0.        ,  0.        , -0.        ,  0.        ,\n",
       "        -0.        , -0.5249819 ,  0.3699487 , -0.50966215,  0.        ,\n",
       "         0.        ,  0.        ,  0.        ,  0.        , -0.        ,\n",
       "         0.        , -0.        , -0.        , -0.        ,  0.        ],      dtype=float32),\n",
       " array([5, 1, 3, 3, 4, 2, 3, 1, 5, 1, 2, 3, 5, 5, 4, 4, 5, 5, 2, 5]))"
      ]
     },
     "execution_count": 59,
     "metadata": {},
     "output_type": "execute_result"
    }
   ],
   "source": [
    "pred[:20], true[:20]"
   ]
  }
 ],
 "metadata": {
  "kernelspec": {
   "display_name": "repos",
   "language": "python",
   "name": "python3"
  },
  "language_info": {
   "codemirror_mode": {
    "name": "ipython",
    "version": 3
   },
   "file_extension": ".py",
   "mimetype": "text/x-python",
   "name": "python",
   "nbconvert_exporter": "python",
   "pygments_lexer": "ipython3",
   "version": "3.10.9"
  }
 },
 "nbformat": 4,
 "nbformat_minor": 2
}

{
 "cells": [
  {
   "cell_type": "code",
   "execution_count": 2,
   "metadata": {},
   "outputs": [],
   "source": [
    "import jax\n",
    "import numpy as np\n",
    "import jax.numpy as jnp\n",
    "import pylab as plt\n",
    "import scipy\n",
    "import pandas as pd"
   ]
  },
  {
   "cell_type": "markdown",
   "metadata": {},
   "source": [
    "## Data Analysis"
   ]
  },
  {
   "cell_type": "code",
   "execution_count": 8,
   "metadata": {},
   "outputs": [
    {
     "data": {
      "text/html": [
       "<div>\n",
       "<style scoped>\n",
       "    .dataframe tbody tr th:only-of-type {\n",
       "        vertical-align: middle;\n",
       "    }\n",
       "\n",
       "    .dataframe tbody tr th {\n",
       "        vertical-align: top;\n",
       "    }\n",
       "\n",
       "    .dataframe thead th {\n",
       "        text-align: right;\n",
       "    }\n",
       "</style>\n",
       "<table border=\"1\" class=\"dataframe\">\n",
       "  <thead>\n",
       "    <tr style=\"text-align: right;\">\n",
       "      <th></th>\n",
       "      <th>userID</th>\n",
       "      <th>songID</th>\n",
       "      <th>rating</th>\n",
       "    </tr>\n",
       "  </thead>\n",
       "  <tbody>\n",
       "    <tr>\n",
       "      <th>0</th>\n",
       "      <td>0</td>\n",
       "      <td>7171</td>\n",
       "      <td>5</td>\n",
       "    </tr>\n",
       "    <tr>\n",
       "      <th>1</th>\n",
       "      <td>0</td>\n",
       "      <td>8637</td>\n",
       "      <td>4</td>\n",
       "    </tr>\n",
       "    <tr>\n",
       "      <th>2</th>\n",
       "      <td>0</td>\n",
       "      <td>21966</td>\n",
       "      <td>4</td>\n",
       "    </tr>\n",
       "    <tr>\n",
       "      <th>3</th>\n",
       "      <td>0</td>\n",
       "      <td>35821</td>\n",
       "      <td>5</td>\n",
       "    </tr>\n",
       "    <tr>\n",
       "      <th>4</th>\n",
       "      <td>0</td>\n",
       "      <td>82446</td>\n",
       "      <td>5</td>\n",
       "    </tr>\n",
       "  </tbody>\n",
       "</table>\n",
       "</div>"
      ],
      "text/plain": [
       "   userID  songID  rating\n",
       "0       0    7171       5\n",
       "1       0    8637       4\n",
       "2       0   21966       4\n",
       "3       0   35821       5\n",
       "4       0   82446       5"
      ]
     },
     "execution_count": 8,
     "metadata": {},
     "output_type": "execute_result"
    }
   ],
   "source": [
    "df = pd.read_csv('songsDataset.csv')\n",
    "df.columns = ['userID', 'songID', 'rating']\n",
    "df.head()"
   ]
  },
  {
   "cell_type": "code",
   "execution_count": 12,
   "metadata": {},
   "outputs": [
    {
     "name": "stdout",
     "output_type": "stream",
     "text": [
      "Number of unique users: 200000\n",
      "Number of unique songs: 127771\n",
      "All ratings = {1, 2, 3, 4, 5}\n"
     ]
    }
   ],
   "source": [
    "print(f'Number of unique users: {len(set(df[\"userID\"].tolist()))}')\n",
    "print(f'Number of unique songs: {len(set(df[\"songID\"].tolist()))}')\n",
    "print(f'All ratings = {set(df[\"rating\"].tolist())}')  # no invalid ratings"
   ]
  },
  {
   "cell_type": "code",
   "execution_count": 22,
   "metadata": {},
   "outputs": [
    {
     "name": "stdout",
     "output_type": "stream",
     "text": [
      "Dataset before deduplication: 2000000\n",
      "Dataset after deduplication: 2000000\n"
     ]
    }
   ],
   "source": [
    "print(f'Dataset before deduplication: {len(df)}')\n",
    "df = df.drop_duplicates(subset=['userID', 'songID']).reset_index(drop=True)\n",
    "print(f'Dataset after deduplication: {len(df)}')  # no (same user, song, diff rating)"
   ]
  },
  {
   "cell_type": "code",
   "execution_count": 19,
   "metadata": {},
   "outputs": [
    {
     "name": "stdout",
     "output_type": "stream",
     "text": [
      "A user gives ratings to {10} songs\n"
     ]
    },
    {
     "data": {
      "text/html": [
       "<div>\n",
       "<style scoped>\n",
       "    .dataframe tbody tr th:only-of-type {\n",
       "        vertical-align: middle;\n",
       "    }\n",
       "\n",
       "    .dataframe tbody tr th {\n",
       "        vertical-align: top;\n",
       "    }\n",
       "\n",
       "    .dataframe thead th {\n",
       "        text-align: right;\n",
       "    }\n",
       "</style>\n",
       "<table border=\"1\" class=\"dataframe\">\n",
       "  <thead>\n",
       "    <tr style=\"text-align: right;\">\n",
       "      <th></th>\n",
       "      <th>userID</th>\n",
       "      <th>song_count</th>\n",
       "    </tr>\n",
       "  </thead>\n",
       "  <tbody>\n",
       "    <tr>\n",
       "      <th>0</th>\n",
       "      <td>0</td>\n",
       "      <td>10</td>\n",
       "    </tr>\n",
       "    <tr>\n",
       "      <th>1</th>\n",
       "      <td>1</td>\n",
       "      <td>10</td>\n",
       "    </tr>\n",
       "    <tr>\n",
       "      <th>2</th>\n",
       "      <td>2</td>\n",
       "      <td>10</td>\n",
       "    </tr>\n",
       "    <tr>\n",
       "      <th>3</th>\n",
       "      <td>3</td>\n",
       "      <td>10</td>\n",
       "    </tr>\n",
       "    <tr>\n",
       "      <th>4</th>\n",
       "      <td>4</td>\n",
       "      <td>10</td>\n",
       "    </tr>\n",
       "    <tr>\n",
       "      <th>...</th>\n",
       "      <td>...</td>\n",
       "      <td>...</td>\n",
       "    </tr>\n",
       "    <tr>\n",
       "      <th>199995</th>\n",
       "      <td>199995</td>\n",
       "      <td>10</td>\n",
       "    </tr>\n",
       "    <tr>\n",
       "      <th>199996</th>\n",
       "      <td>199996</td>\n",
       "      <td>10</td>\n",
       "    </tr>\n",
       "    <tr>\n",
       "      <th>199997</th>\n",
       "      <td>199997</td>\n",
       "      <td>10</td>\n",
       "    </tr>\n",
       "    <tr>\n",
       "      <th>199998</th>\n",
       "      <td>199998</td>\n",
       "      <td>10</td>\n",
       "    </tr>\n",
       "    <tr>\n",
       "      <th>199999</th>\n",
       "      <td>199999</td>\n",
       "      <td>10</td>\n",
       "    </tr>\n",
       "  </tbody>\n",
       "</table>\n",
       "<p>200000 rows × 2 columns</p>\n",
       "</div>"
      ],
      "text/plain": [
       "        userID  song_count\n",
       "0            0          10\n",
       "1            1          10\n",
       "2            2          10\n",
       "3            3          10\n",
       "4            4          10\n",
       "...        ...         ...\n",
       "199995  199995          10\n",
       "199996  199996          10\n",
       "199997  199997          10\n",
       "199998  199998          10\n",
       "199999  199999          10\n",
       "\n",
       "[200000 rows x 2 columns]"
      ]
     },
     "execution_count": 19,
     "metadata": {},
     "output_type": "execute_result"
    }
   ],
   "source": [
    "user_rating_counts = df.groupby('userID')['songID'].count().reset_index()\n",
    "user_rating_counts.columns = ['userID', 'song_count']\n",
    "print(f'A user gives ratings to {set(user_rating_counts[\"song_count\"])} songs')\n",
    "user_rating_counts"
   ]
  },
  {
   "cell_type": "code",
   "execution_count": 21,
   "metadata": {},
   "outputs": [
    {
     "name": "stdout",
     "output_type": "stream",
     "text": [
      "A song is rated by {1, 2, 3, 4, 5, 6, 7, 8, 9, 10, 11, 12, 13, 14, 15, 16, 17, 18, 19, 20, 21, 22, 23, 24, 25, 26, 27, 28, 29, 30, 31, 32, 33, 34, 35, 36, 37, 38, 39, 40, 41, 42, 43, 44, 45, 46, 47, 48, 49, 50, 51, 52, 53, 54, 55, 56, 57, 58, 59, 60, 61, 62, 63, 64, 65, 66, 67, 68, 69, 70, 71, 72, 73, 74, 75, 76, 77, 78, 79, 80, 81, 82, 83, 84, 85, 86, 87, 88, 89, 90, 91, 92, 93, 94, 95, 96, 97, 98, 99, 100, 101, 102, 103, 104, 105, 106, 107, 108, 109, 110, 111, 112, 113, 114, 115, 116, 117, 118, 119, 120, 121, 122, 123, 124, 125, 126, 127, 128, 129, 130, 131, 132, 133, 134, 135, 136, 137, 138, 139, 140, 141, 142, 143, 144, 145, 146, 147, 148, 149, 150, 151, 152, 153, 154, 155, 156, 157, 158, 159, 160, 161, 162, 163, 164, 165, 166, 167, 168, 169, 170, 171, 172, 173, 174, 175, 176, 177, 178, 179, 180, 181, 182, 183, 184, 185, 186, 187, 188, 189, 190, 191, 192, 193, 194, 195, 196, 197, 198, 199, 200, 201, 202, 203, 204, 205, 206, 207, 208, 209, 210, 211, 212, 213, 214, 215, 216, 217, 218, 219, 220, 221, 222, 223, 224, 225, 226, 227, 228, 229, 230, 231, 232, 233, 234, 235, 236, 237, 238, 239, 240, 241, 242, 243, 244, 245, 246, 247, 248, 249, 250, 251, 252, 253, 254, 255, 256, 257, 258, 259, 260, 261, 262, 263, 264, 265, 266, 267, 268, 269, 270, 271, 272, 273, 274, 275, 276, 277, 278, 279, 280, 281, 282, 283, 284, 285, 287, 288, 289, 290, 291, 292, 293, 294, 295, 296, 297, 298, 299, 300, 301, 302, 303, 304, 305, 306, 307, 308, 309, 310, 311, 312, 313, 314, 315, 316, 317, 318, 319, 320, 321, 322, 323, 324, 325, 327, 328, 329, 330, 331, 332, 333, 334, 335, 336, 337, 338, 339, 340, 341, 342, 343, 344, 346, 347, 348, 349, 350, 351, 352, 354, 355, 356, 357, 358, 359, 360, 361, 362, 363, 364, 365, 366, 367, 368, 369, 371, 372, 373, 374, 376, 378, 379, 380, 381, 382, 383, 384, 385, 386, 387, 388, 389, 390, 391, 392, 393, 395, 396, 397, 398, 399, 400, 401, 402, 403, 404, 405, 406, 407, 408, 409, 410, 411, 412, 413, 414, 415, 416, 417, 418, 419, 420, 421, 422, 423, 424, 425, 426, 427, 428, 429, 430, 431, 432, 433, 434, 435, 436, 437, 438, 439, 440, 441, 442, 443, 444, 445, 446, 447, 448, 449, 450, 452, 453, 454, 455, 456, 457, 458, 459, 460, 461, 462, 463, 464, 465, 467, 468, 469, 470, 471, 472, 474, 477, 480, 481, 482, 483, 485, 486, 488, 492, 493, 494, 496, 497, 499, 500, 501, 503, 504, 505, 506, 508, 513, 515, 517, 518, 519, 520, 521, 522, 523, 524, 525, 526, 530, 531, 532, 533, 534, 535, 536, 537, 539, 540, 541, 542, 544, 547, 548, 549, 550, 551, 552, 553, 555, 558, 560, 561, 562, 564, 568, 570, 571, 572, 573, 574, 575, 576, 577, 578, 581, 582, 583, 585, 586, 587, 588, 589, 590, 591, 592, 595, 600, 601, 603, 604, 605, 606, 607, 608, 609, 610, 612, 613, 616, 617, 620, 621, 622, 623, 624, 627, 629, 631, 632, 633, 634, 635, 636, 638, 640, 642, 646, 648, 652, 655, 656, 659, 665, 666, 668, 673, 674, 675, 676, 677, 678, 679, 681, 683, 684, 686, 687, 689, 691, 694, 695, 696, 699, 701, 702, 703, 704, 705, 709, 710, 711, 715, 717, 719, 720, 724, 727, 728, 730, 731, 736, 737, 738, 739, 741, 742, 746, 748, 751, 755, 758, 759, 760, 761, 765, 771, 776, 778, 780, 784, 785, 787, 788, 790, 791, 792, 798, 800, 810, 813, 814, 815, 817, 818, 820, 821, 824, 825, 831, 837, 840, 845, 846, 847, 852, 855, 864, 865, 871, 875, 878, 879, 880, 883, 886, 887, 889, 893, 902, 906, 919, 921, 924, 928, 929, 935, 936, 939, 964, 976, 985, 992, 994, 1023, 1025, 1040, 1064, 1066, 1068, 1076, 1085, 1089, 1092, 1097, 1114, 1119, 1143, 1144, 1158, 1173, 1178, 1180, 1184, 1187, 1215, 1219, 1221, 1243, 1254, 1260, 1262, 1286, 1294, 1296, 1300, 1325, 1326, 1327, 1329, 1341, 1361, 1413, 1439, 1474, 1483, 1491, 1516, 1534, 1536, 1548, 1557, 1583, 1600, 1720, 1880, 1904} users\n"
     ]
    },
    {
     "data": {
      "text/html": [
       "<div>\n",
       "<style scoped>\n",
       "    .dataframe tbody tr th:only-of-type {\n",
       "        vertical-align: middle;\n",
       "    }\n",
       "\n",
       "    .dataframe tbody tr th {\n",
       "        vertical-align: top;\n",
       "    }\n",
       "\n",
       "    .dataframe thead th {\n",
       "        text-align: right;\n",
       "    }\n",
       "</style>\n",
       "<table border=\"1\" class=\"dataframe\">\n",
       "  <thead>\n",
       "    <tr style=\"text-align: right;\">\n",
       "      <th></th>\n",
       "      <th>songID</th>\n",
       "      <th>user_count</th>\n",
       "    </tr>\n",
       "  </thead>\n",
       "  <tbody>\n",
       "    <tr>\n",
       "      <th>0</th>\n",
       "      <td>0</td>\n",
       "      <td>5</td>\n",
       "    </tr>\n",
       "    <tr>\n",
       "      <th>1</th>\n",
       "      <td>1</td>\n",
       "      <td>2</td>\n",
       "    </tr>\n",
       "    <tr>\n",
       "      <th>2</th>\n",
       "      <td>2</td>\n",
       "      <td>4</td>\n",
       "    </tr>\n",
       "    <tr>\n",
       "      <th>3</th>\n",
       "      <td>3</td>\n",
       "      <td>18</td>\n",
       "    </tr>\n",
       "    <tr>\n",
       "      <th>4</th>\n",
       "      <td>4</td>\n",
       "      <td>2</td>\n",
       "    </tr>\n",
       "    <tr>\n",
       "      <th>...</th>\n",
       "      <td>...</td>\n",
       "      <td>...</td>\n",
       "    </tr>\n",
       "    <tr>\n",
       "      <th>127766</th>\n",
       "      <td>136731</td>\n",
       "      <td>6</td>\n",
       "    </tr>\n",
       "    <tr>\n",
       "      <th>127767</th>\n",
       "      <td>136732</td>\n",
       "      <td>7</td>\n",
       "    </tr>\n",
       "    <tr>\n",
       "      <th>127768</th>\n",
       "      <td>136733</td>\n",
       "      <td>2</td>\n",
       "    </tr>\n",
       "    <tr>\n",
       "      <th>127769</th>\n",
       "      <td>136734</td>\n",
       "      <td>23</td>\n",
       "    </tr>\n",
       "    <tr>\n",
       "      <th>127770</th>\n",
       "      <td>136735</td>\n",
       "      <td>24</td>\n",
       "    </tr>\n",
       "  </tbody>\n",
       "</table>\n",
       "<p>127771 rows × 2 columns</p>\n",
       "</div>"
      ],
      "text/plain": [
       "        songID  user_count\n",
       "0            0           5\n",
       "1            1           2\n",
       "2            2           4\n",
       "3            3          18\n",
       "4            4           2\n",
       "...        ...         ...\n",
       "127766  136731           6\n",
       "127767  136732           7\n",
       "127768  136733           2\n",
       "127769  136734          23\n",
       "127770  136735          24\n",
       "\n",
       "[127771 rows x 2 columns]"
      ]
     },
     "execution_count": 21,
     "metadata": {},
     "output_type": "execute_result"
    }
   ],
   "source": [
    "song_rating_counts = df.groupby('songID')['userID'].count().reset_index()\n",
    "song_rating_counts.columns = ['songID', 'user_count']\n",
    "print(f'A song is rated by {set(song_rating_counts[\"user_count\"])} users')\n",
    "song_rating_counts"
   ]
  },
  {
   "cell_type": "markdown",
   "metadata": {},
   "source": [
    "## Matrix Fatorization"
   ]
  },
  {
   "cell_type": "code",
   "execution_count": null,
   "metadata": {},
   "outputs": [],
   "source": [
    "# code from lecture\n",
    "@jax.jit\n",
    "def loss(U_single, F_single, rating_single):\n",
    "    '''compute the error for a single pair of user and film'''\n",
    "    pred = jnp.dot(U_single, F_single)\n",
    "    error = rating_single - pred\n",
    "    return jnp.mean(error ** 2)\n",
    "loss_grad = jax.jit( jax.grad(loss, argnums=(0, 1)) )\n",
    "\n",
    "\n",
    "def mse(U_batch, F_batch, ratings_batch):\n",
    "    '''compute the MSE on a batch of users * films'''\n",
    "    predictions = np.sum(U_batch * F_batch, axis=1)\n",
    "    errors = ratings_batch - predictions\n",
    "    return np.mean(errors ** 2)\n",
    "\n",
    "\n",
    "# need to generate the U, F, Ratings, Obs_users, Obs_films from df to run this :) \n",
    "# refactor the arguments later\n",
    "niter = 100\n",
    "learning_rate = 0.05\n",
    "def naive_matrix_factorization(U, F, Ratings, Obs_users, Obs_films, niter, learning_rate):\n",
    "    for it in range(niter):\n",
    "        for index in range(1000):\n",
    "            # fetch a random user, film and rating\n",
    "            index = np.random.randint(Ratings.shape[0])  # check here\n",
    "            user_id = Obs_users[index]\n",
    "            film_id = Obs_films[index]\n",
    "            rating = Ratings[index]\n",
    "            # lt's compute the gradient\n",
    "            U_grad, F_grad = loss_grad(U[user_id], F[film_id], rating)\n",
    "            # lt's do the update\n",
    "            U[user_id] -= learning_rate * U_grad\n",
    "            F[film_id] -= learning_rate * F_grad\n",
    "        if it % 10 == 0:\n",
    "            U_batch = U[Obs_users[:1000]]\n",
    "            F_batch = F[Obs_films[:1000]]\n",
    "            ratings_batch = Ratings[:1000]\n",
    "            mse_current = mse(U_batch, F_batch, ratings_batch)\n",
    "            print(f'iter {it}, mse = {mse_current:.2f}')"
   ]
  }
 ],
 "metadata": {
  "kernelspec": {
   "display_name": "repos",
   "language": "python",
   "name": "python3"
  },
  "language_info": {
   "codemirror_mode": {
    "name": "ipython",
    "version": 3
   },
   "file_extension": ".py",
   "mimetype": "text/x-python",
   "name": "python",
   "nbconvert_exporter": "python",
   "pygments_lexer": "ipython3",
   "version": "3.10.9"
  }
 },
 "nbformat": 4,
 "nbformat_minor": 2
}

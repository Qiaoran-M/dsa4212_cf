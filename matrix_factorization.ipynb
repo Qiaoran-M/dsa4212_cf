{
 "cells": [
  {
   "cell_type": "code",
   "execution_count": 34,
   "metadata": {},
   "outputs": [],
   "source": [
    "import jax\n",
    "import numpy as np\n",
    "import jax.numpy as jnp\n",
    "import pylab as plt\n",
    "from scipy.sparse import csr_matrix\n",
    "import pandas as pd\n",
    "from sklearn.model_selection import train_test_split"
   ]
  },
  {
   "cell_type": "code",
   "execution_count": 46,
   "metadata": {},
   "outputs": [
    {
     "name": "stdout",
     "output_type": "stream",
     "text": [
      "The autoreload extension is already loaded. To reload it, use:\n",
      "  %reload_ext autoreload\n"
     ]
    }
   ],
   "source": [
    "%matplotlib inline\n",
    "%load_ext autoreload\n",
    "%autoreload 1\n",
    "%aimport models.nmf\n",
    "%aimport models.nmf_multi\n",
    "from models.nmf import nmf\n",
    "from models.nmf_multi import nmf_multi"
   ]
  },
  {
   "cell_type": "markdown",
   "metadata": {},
   "source": [
    "## Data Analysis"
   ]
  },
  {
   "cell_type": "code",
   "execution_count": 36,
   "metadata": {},
   "outputs": [
    {
     "data": {
      "text/html": [
       "<div>\n",
       "<style scoped>\n",
       "    .dataframe tbody tr th:only-of-type {\n",
       "        vertical-align: middle;\n",
       "    }\n",
       "\n",
       "    .dataframe tbody tr th {\n",
       "        vertical-align: top;\n",
       "    }\n",
       "\n",
       "    .dataframe thead th {\n",
       "        text-align: right;\n",
       "    }\n",
       "</style>\n",
       "<table border=\"1\" class=\"dataframe\">\n",
       "  <thead>\n",
       "    <tr style=\"text-align: right;\">\n",
       "      <th></th>\n",
       "      <th>userID</th>\n",
       "      <th>songID</th>\n",
       "      <th>rating</th>\n",
       "    </tr>\n",
       "  </thead>\n",
       "  <tbody>\n",
       "    <tr>\n",
       "      <th>0</th>\n",
       "      <td>0</td>\n",
       "      <td>7171</td>\n",
       "      <td>5</td>\n",
       "    </tr>\n",
       "    <tr>\n",
       "      <th>1</th>\n",
       "      <td>0</td>\n",
       "      <td>8637</td>\n",
       "      <td>4</td>\n",
       "    </tr>\n",
       "    <tr>\n",
       "      <th>2</th>\n",
       "      <td>0</td>\n",
       "      <td>21966</td>\n",
       "      <td>4</td>\n",
       "    </tr>\n",
       "    <tr>\n",
       "      <th>3</th>\n",
       "      <td>0</td>\n",
       "      <td>35821</td>\n",
       "      <td>5</td>\n",
       "    </tr>\n",
       "    <tr>\n",
       "      <th>4</th>\n",
       "      <td>0</td>\n",
       "      <td>82446</td>\n",
       "      <td>5</td>\n",
       "    </tr>\n",
       "  </tbody>\n",
       "</table>\n",
       "</div>"
      ],
      "text/plain": [
       "   userID  songID  rating\n",
       "0       0    7171       5\n",
       "1       0    8637       4\n",
       "2       0   21966       4\n",
       "3       0   35821       5\n",
       "4       0   82446       5"
      ]
     },
     "execution_count": 36,
     "metadata": {},
     "output_type": "execute_result"
    }
   ],
   "source": [
    "# load data\n",
    "df = pd.read_csv('songsDataset.csv')\n",
    "df.columns = ['userID', 'songID', 'rating']\n",
    "df.head()"
   ]
  },
  {
   "cell_type": "code",
   "execution_count": 37,
   "metadata": {},
   "outputs": [
    {
     "name": "stdout",
     "output_type": "stream",
     "text": [
      "Number of unique users: 200000\n",
      "Number of unique songs: 127771\n",
      "All ratings = {1, 2, 3, 4, 5}\n"
     ]
    }
   ],
   "source": [
    "# basic data analysis: number of users and songs\n",
    "n_users, n_songs = len(set(df[\"userID\"].tolist())), len(set(df[\"songID\"].tolist()))\n",
    "all_ratings = set(df[\"rating\"].tolist())\n",
    "n_rating_levels = len(all_ratings)\n",
    "print(f'Number of unique users: {n_users}')\n",
    "print(f'Number of unique songs: {n_songs}')\n",
    "print(f'All ratings = {all_ratings}')  # no invalid ratings"
   ]
  },
  {
   "cell_type": "code",
   "execution_count": 38,
   "metadata": {},
   "outputs": [
    {
     "name": "stdout",
     "output_type": "stream",
     "text": [
      "Dataset before deduplication: 2000000 rows\n",
      "Dataset after deduplication: 2000000 rows\n"
     ]
    }
   ],
   "source": [
    "# check duplicates / invalid samples (same user, same, song, different ratings)\n",
    "print(f'Dataset before deduplication: {len(df)} rows')\n",
    "df = df.drop_duplicates(subset=['userID', 'songID']).reset_index(drop=True)\n",
    "print(f'Dataset after deduplication: {len(df)} rows')  # no "
   ]
  },
  {
   "cell_type": "code",
   "execution_count": 39,
   "metadata": {},
   "outputs": [
    {
     "name": "stdout",
     "output_type": "stream",
     "text": [
      "A user can give ratings to {10} songs\n",
      "A song can be rated by {1, 2, 3, 4, 5, 6, 7, 8, 9, 10, 11, 12, 13, 14, 15, 16, 17, 18, 19, 20, 21, 22, 23, 24, 25, 26, 27, 28, 29, 30, 31, 32, 33, 34, 35, 36, 37, 38, 39, 40, 41, 42, 43, 44, 45, 46, 47, 48, 49, 50, 51, 52, 53, 54, 55, 56, 57, 58, 59, 60, 61, 62, 63, 64, 65, 66, 67, 68, 69, 70, 71, 72, 73, 74, 75, 76, 77, 78, 79, 80, 81, 82, 83, 84, 85, 86, 87, 88, 89, 90, 91, 92, 93, 94, 95, 96, 97, 98, 99, 100, 101, 102, 103, 104, 105, 106, 107, 108, 109, 110, 111, 112, 113, 114, 115, 116, 117, 118, 119, 120, 121, 122, 123, 124, 125, 126, 127, 128, 129, 130, 131, 132, 133, 134, 135, 136, 137, 138, 139, 140, 141, 142, 143, 144, 145, 146, 147, 148, 149, 150, 151, 152, 153, 154, 155, 156, 157, 158, 159, 160, 161, 162, 163, 164, 165, 166, 167, 168, 169, 170, 171, 172, 173, 174, 175, 176, 177, 178, 179, 180, 181, 182, 183, 184, 185, 186, 187, 188, 189, 190, 191, 192, 193, 194, 195, 196, 197, 198, 199, 200, 201, 202, 203, 204, 205, 206, 207, 208, 209, 210, 211, 212, 213, 214, 215, 216, 217, 218, 219, 220, 221, 222, 223, 224, 225, 226, 227, 228, 229, 230, 231, 232, 233, 234, 235, 236, 237, 238, 239, 240, 241, 242, 243, 244, 245, 246, 247, 248, 249, 250, 251, 252, 253, 254, 255, 256, 257, 258, 259, 260, 261, 262, 263, 264, 265, 266, 267, 268, 269, 270, 271, 272, 273, 274, 275, 276, 277, 278, 279, 280, 281, 282, 283, 284, 285, 287, 288, 289, 290, 291, 292, 293, 294, 295, 296, 297, 298, 299, 300, 301, 302, 303, 304, 305, 306, 307, 308, 309, 310, 311, 312, 313, 314, 315, 316, 317, 318, 319, 320, 321, 322, 323, 324, 325, 327, 328, 329, 330, 331, 332, 333, 334, 335, 336, 337, 338, 339, 340, 341, 342, 343, 344, 346, 347, 348, 349, 350, 351, 352, 354, 355, 356, 357, 358, 359, 360, 361, 362, 363, 364, 365, 366, 367, 368, 369, 371, 372, 373, 374, 376, 378, 379, 380, 381, 382, 383, 384, 385, 386, 387, 388, 389, 390, 391, 392, 393, 395, 396, 397, 398, 399, 400, 401, 402, 403, 404, 405, 406, 407, 408, 409, 410, 411, 412, 413, 414, 415, 416, 417, 418, 419, 420, 421, 422, 423, 424, 425, 426, 427, 428, 429, 430, 431, 432, 433, 434, 435, 436, 437, 438, 439, 440, 441, 442, 443, 444, 445, 446, 447, 448, 449, 450, 452, 453, 454, 455, 456, 457, 458, 459, 460, 461, 462, 463, 464, 465, 467, 468, 469, 470, 471, 472, 474, 477, 480, 481, 482, 483, 485, 486, 488, 492, 493, 494, 496, 497, 499, 500, 501, 503, 504, 505, 506, 508, 513, 515, 517, 518, 519, 520, 521, 522, 523, 524, 525, 526, 530, 531, 532, 533, 534, 535, 536, 537, 539, 540, 541, 542, 544, 547, 548, 549, 550, 551, 552, 553, 555, 558, 560, 561, 562, 564, 568, 570, 571, 572, 573, 574, 575, 576, 577, 578, 581, 582, 583, 585, 586, 587, 588, 589, 590, 591, 592, 595, 600, 601, 603, 604, 605, 606, 607, 608, 609, 610, 612, 613, 616, 617, 620, 621, 622, 623, 624, 627, 629, 631, 632, 633, 634, 635, 636, 638, 640, 642, 646, 648, 652, 655, 656, 659, 665, 666, 668, 673, 674, 675, 676, 677, 678, 679, 681, 683, 684, 686, 687, 689, 691, 694, 695, 696, 699, 701, 702, 703, 704, 705, 709, 710, 711, 715, 717, 719, 720, 724, 727, 728, 730, 731, 736, 737, 738, 739, 741, 742, 746, 748, 751, 755, 758, 759, 760, 761, 765, 771, 776, 778, 780, 784, 785, 787, 788, 790, 791, 792, 798, 800, 810, 813, 814, 815, 817, 818, 820, 821, 824, 825, 831, 837, 840, 845, 846, 847, 852, 855, 864, 865, 871, 875, 878, 879, 880, 883, 886, 887, 889, 893, 902, 906, 919, 921, 924, 928, 929, 935, 936, 939, 964, 976, 985, 992, 994, 1023, 1025, 1040, 1064, 1066, 1068, 1076, 1085, 1089, 1092, 1097, 1114, 1119, 1143, 1144, 1158, 1173, 1178, 1180, 1184, 1187, 1215, 1219, 1221, 1243, 1254, 1260, 1262, 1286, 1294, 1296, 1300, 1325, 1326, 1327, 1329, 1341, 1361, 1413, 1439, 1474, 1483, 1491, 1516, 1534, 1536, 1548, 1557, 1583, 1600, 1720, 1880, 1904} users\n"
     ]
    },
    {
     "data": {
      "text/plain": [
       "1613208"
      ]
     },
     "execution_count": 39,
     "metadata": {},
     "output_type": "execute_result"
    }
   ],
   "source": [
    "# Number of songs a user typically rates\n",
    "user_rating_counts = df.groupby('userID')['songID'].count().reset_index()\n",
    "user_rating_counts.columns = ['userID', 'song_count']\n",
    "print(f'A user can give ratings to {set(user_rating_counts[\"song_count\"])} songs')\n",
    "\n",
    "# Number of users a song is typically rated by\n",
    "song_rating_counts = df.groupby('songID')['userID'].count().reset_index()\n",
    "song_rating_counts.columns = ['songID', 'user_count']\n",
    "print(f'A song can be rated by {set(song_rating_counts[\"user_count\"])} users')\n",
    "\n",
    "# Filter the songs with more than 10 ratings to reduce outliers\n",
    "from collections import Counter\n",
    "less_rated_songs = [item for item, count in Counter(df['songID'].tolist()).items() if count <= 10]\n",
    "df = df[~df['songID'].isin(less_rated_songs)]\n",
    "len(df)"
   ]
  },
  {
   "cell_type": "code",
   "execution_count": 40,
   "metadata": {},
   "outputs": [
    {
     "name": "stdout",
     "output_type": "stream",
     "text": [
      "30885 199884\n"
     ]
    }
   ],
   "source": [
    "# generate consecutive indices for users and songs\n",
    "all_song_idx, all_user_idx = sorted(list(set(df.songID.values))), sorted(list(set(df.userID.values)))\n",
    "print(len(all_song_idx), len(all_user_idx))\n",
    "song_idx_dict = {song_id: i for i, song_id in enumerate(all_song_idx)}\n",
    "user_idx_dict = {user_id: i for i, user_id in enumerate(all_user_idx)}\n",
    "df['userID'] = df['userID'].apply(lambda x: user_idx_dict[x])\n",
    "df['songID'] = df['songID'].apply(lambda x: song_idx_dict[x])"
   ]
  },
  {
   "cell_type": "code",
   "execution_count": 41,
   "metadata": {},
   "outputs": [
    {
     "name": "stdout",
     "output_type": "stream",
     "text": [
      "(199884, 30885) (199884, 30885) (199884, 30885)\n"
     ]
    }
   ],
   "source": [
    "def generate_rating_matrix(df, total_df):\n",
    "    # create rating matrix of shape (number of users, number of songs)\n",
    "    ratings = csr_matrix(\n",
    "        (df.rating.values, (df.userID.values, df.songID.values)), \n",
    "        shape=(len(total_df.userID.unique()), len(total_df.songID.unique()))\n",
    "    )\n",
    "    return (ratings.toarray(), ratings.nonzero())\n",
    "\n",
    "train, test = train_test_split(df, test_size=0.2, random_state=42)\n",
    "train, val = train_test_split(train, test_size=0.2, random_state=42)\n",
    "train_data, val_data, test_data = generate_rating_matrix(train, df), \\\n",
    "    generate_rating_matrix(val, df), generate_rating_matrix(test, df)\n",
    "print(train_data[0].shape, val_data[0].shape, test_data[0].shape)"
   ]
  },
  {
   "cell_type": "markdown",
   "metadata": {},
   "source": [
    "## Matrix Fatorization"
   ]
  },
  {
   "cell_type": "code",
   "execution_count": 57,
   "metadata": {},
   "outputs": [
    {
     "name": "stdout",
     "output_type": "stream",
     "text": [
      "Epoch 0 | training loss = 16.7708 | validation loss = 14.9317\n",
      "Epoch 1 | training loss = 14.9029 | validation loss = 14.9214\n",
      "Epoch 2 | training loss = 14.8918 | validation loss = 14.9114\n",
      "Epoch 3 | training loss = 14.8810 | validation loss = 14.9017\n",
      "Epoch 4 | training loss = 14.8705 | validation loss = 14.8922\n",
      "Epoch 5 | training loss = 14.8603 | validation loss = 14.8830\n",
      "Epoch 6 | training loss = 14.8504 | validation loss = 14.8741\n",
      "Epoch 7 | training loss = 14.8407 | validation loss = 14.8654\n",
      "Epoch 8 | training loss = 14.8312 | validation loss = 14.8570\n",
      "Epoch 9 | training loss = 14.8220 | validation loss = 14.8487\n",
      "Epoch 10 | training loss = 14.8131 | validation loss = 14.8407\n",
      "Epoch 11 | training loss = 14.8043 | validation loss = 14.8329\n",
      "Epoch 12 | training loss = 14.7957 | validation loss = 14.8252\n",
      "Epoch 13 | training loss = 14.7874 | validation loss = 14.8178\n",
      "Epoch 14 | training loss = 14.7792 | validation loss = 14.8105\n",
      "Epoch 15 | training loss = 14.7712 | validation loss = 14.8034\n",
      "Epoch 16 | training loss = 14.7634 | validation loss = 14.7964\n",
      "Epoch 17 | training loss = 14.7557 | validation loss = 14.7896\n",
      "Epoch 18 | training loss = 14.7482 | validation loss = 14.7830\n",
      "Epoch 19 | training loss = 14.7408 | validation loss = 14.7765\n",
      "Epoch 20 | training loss = 14.7336 | validation loss = 14.7701\n",
      "Epoch 21 | training loss = 14.7266 | validation loss = 14.7639\n",
      "Epoch 22 | training loss = 14.7196 | validation loss = 14.7577\n",
      "Epoch 23 | training loss = 14.7128 | validation loss = 14.7517\n",
      "Epoch 24 | training loss = 14.7062 | validation loss = 14.7459\n",
      "Epoch 25 | training loss = 14.6996 | validation loss = 14.7401\n",
      "Epoch 26 | training loss = 14.6932 | validation loss = 14.7344\n",
      "Epoch 27 | training loss = 14.6868 | validation loss = 14.7289\n",
      "Epoch 28 | training loss = 14.6806 | validation loss = 14.7234\n",
      "Epoch 29 | training loss = 14.6745 | validation loss = 14.7180\n",
      "Epoch 30 | training loss = 14.6685 | validation loss = 14.7128\n",
      "Epoch 31 | training loss = 14.6625 | validation loss = 14.7076\n",
      "Epoch 32 | training loss = 14.6567 | validation loss = 14.7025\n",
      "Epoch 33 | training loss = 14.6510 | validation loss = 14.6975\n",
      "Epoch 34 | training loss = 14.6453 | validation loss = 14.6925\n",
      "Epoch 35 | training loss = 14.6397 | validation loss = 14.6877\n",
      "Epoch 36 | training loss = 14.6342 | validation loss = 14.6829\n",
      "Epoch 37 | training loss = 14.6288 | validation loss = 14.6782\n",
      "Epoch 38 | training loss = 14.6235 | validation loss = 14.6735\n",
      "Epoch 39 | training loss = 14.6182 | validation loss = 14.6690\n",
      "Epoch 40 | training loss = 14.6130 | validation loss = 14.6644\n",
      "Epoch 41 | training loss = 14.6079 | validation loss = 14.6600\n",
      "Epoch 42 | training loss = 14.6028 | validation loss = 14.6556\n",
      "Epoch 43 | training loss = 14.5978 | validation loss = 14.6513\n",
      "Epoch 44 | training loss = 14.5929 | validation loss = 14.6470\n",
      "Epoch 45 | training loss = 14.5880 | validation loss = 14.6428\n",
      "Epoch 46 | training loss = 14.5832 | validation loss = 14.6386\n",
      "Epoch 47 | training loss = 14.5784 | validation loss = 14.6345\n",
      "Epoch 48 | training loss = 14.5737 | validation loss = 14.6304\n",
      "Epoch 49 | training loss = 14.5690 | validation loss = 14.6264\n",
      "Epoch 50 | training loss = 14.5644 | validation loss = 14.6224\n",
      "Epoch 51 | training loss = 14.5598 | validation loss = 14.6185\n",
      "Epoch 52 | training loss = 14.5553 | validation loss = 14.6146\n",
      "Epoch 53 | training loss = 14.5508 | validation loss = 14.6108\n",
      "Epoch 54 | training loss = 14.5464 | validation loss = 14.6070\n",
      "Epoch 55 | training loss = 14.5420 | validation loss = 14.6032\n",
      "Epoch 56 | training loss = 14.5377 | validation loss = 14.5995\n",
      "Epoch 57 | training loss = 14.5334 | validation loss = 14.5958\n",
      "Epoch 58 | training loss = 14.5292 | validation loss = 14.5922\n",
      "Epoch 59 | training loss = 14.5249 | validation loss = 14.5886\n",
      "Epoch 60 | training loss = 14.5208 | validation loss = 14.5850\n",
      "Epoch 61 | training loss = 14.5166 | validation loss = 14.5814\n",
      "Epoch 62 | training loss = 14.5125 | validation loss = 14.5779\n",
      "Epoch 63 | training loss = 14.5084 | validation loss = 14.5744\n",
      "Epoch 64 | training loss = 14.5044 | validation loss = 14.5710\n",
      "Epoch 65 | training loss = 14.5004 | validation loss = 14.5676\n",
      "Epoch 66 | training loss = 14.4964 | validation loss = 14.5642\n",
      "Epoch 67 | training loss = 14.4925 | validation loss = 14.5608\n",
      "Epoch 68 | training loss = 14.4886 | validation loss = 14.5575\n",
      "Epoch 69 | training loss = 14.4847 | validation loss = 14.5542\n",
      "Epoch 70 | training loss = 14.4808 | validation loss = 14.5509\n",
      "Epoch 71 | training loss = 14.4770 | validation loss = 14.5476\n",
      "Epoch 72 | training loss = 14.4732 | validation loss = 14.5444\n",
      "Epoch 73 | training loss = 14.4694 | validation loss = 14.5412\n",
      "Epoch 74 | training loss = 14.4657 | validation loss = 14.5380\n",
      "Epoch 75 | training loss = 14.4619 | validation loss = 14.5348\n",
      "Epoch 76 | training loss = 14.4583 | validation loss = 14.5317\n",
      "Epoch 77 | training loss = 14.4546 | validation loss = 14.5286\n",
      "Epoch 78 | training loss = 14.4509 | validation loss = 14.5255\n",
      "Epoch 79 | training loss = 14.4473 | validation loss = 14.5224\n",
      "Epoch 80 | training loss = 14.4437 | validation loss = 14.5193\n",
      "Epoch 81 | training loss = 14.4401 | validation loss = 14.5163\n",
      "Epoch 82 | training loss = 14.4365 | validation loss = 14.5133\n",
      "Epoch 83 | training loss = 14.4330 | validation loss = 14.5103\n",
      "Epoch 84 | training loss = 14.4295 | validation loss = 14.5073\n",
      "Epoch 85 | training loss = 14.4260 | validation loss = 14.5043\n",
      "Epoch 86 | training loss = 14.4225 | validation loss = 14.5014\n",
      "Epoch 87 | training loss = 14.4190 | validation loss = 14.4984\n",
      "Epoch 88 | training loss = 14.4156 | validation loss = 14.4955\n",
      "Epoch 89 | training loss = 14.4121 | validation loss = 14.4926\n",
      "Epoch 90 | training loss = 14.4087 | validation loss = 14.4897\n",
      "Epoch 91 | training loss = 14.4053 | validation loss = 14.4868\n",
      "Epoch 92 | training loss = 14.4019 | validation loss = 14.4840\n",
      "Epoch 93 | training loss = 14.3986 | validation loss = 14.4811\n",
      "Epoch 94 | training loss = 14.3952 | validation loss = 14.4783\n",
      "Epoch 95 | training loss = 14.3919 | validation loss = 14.4755\n",
      "Epoch 96 | training loss = 14.3885 | validation loss = 14.4726\n",
      "Epoch 97 | training loss = 14.3852 | validation loss = 14.4699\n",
      "Epoch 98 | training loss = 14.3819 | validation loss = 14.4671\n",
      "Epoch 99 | training loss = 14.3787 | validation loss = 14.4643\n",
      "Epoch 100 | training loss = 14.3754 | validation loss = 14.4615\n",
      "Epoch 101 | training loss = 14.3721 | validation loss = 14.4588\n",
      "Epoch 102 | training loss = 14.3689 | validation loss = 14.4561\n",
      "Epoch 103 | training loss = 14.3657 | validation loss = 14.4533\n",
      "Epoch 104 | training loss = 14.3625 | validation loss = 14.4506\n",
      "Epoch 105 | training loss = 14.3593 | validation loss = 14.4479\n",
      "Epoch 106 | training loss = 14.3561 | validation loss = 14.4452\n",
      "Epoch 107 | training loss = 14.3529 | validation loss = 14.4425\n",
      "Epoch 108 | training loss = 14.3497 | validation loss = 14.4399\n",
      "Epoch 109 | training loss = 14.3466 | validation loss = 14.4372\n",
      "Epoch 110 | training loss = 14.3434 | validation loss = 14.4345\n",
      "Epoch 111 | training loss = 14.3403 | validation loss = 14.4319\n",
      "Epoch 112 | training loss = 14.3371 | validation loss = 14.4292\n",
      "Epoch 113 | training loss = 14.3340 | validation loss = 14.4266\n",
      "Epoch 114 | training loss = 14.3309 | validation loss = 14.4240\n",
      "Epoch 115 | training loss = 14.3278 | validation loss = 14.4214\n",
      "Epoch 116 | training loss = 14.3247 | validation loss = 14.4188\n",
      "Epoch 117 | training loss = 14.3216 | validation loss = 14.4162\n",
      "Epoch 118 | training loss = 14.3186 | validation loss = 14.4136\n",
      "Epoch 119 | training loss = 14.3155 | validation loss = 14.4110\n",
      "Epoch 120 | training loss = 14.3124 | validation loss = 14.4084\n",
      "Epoch 121 | training loss = 14.3094 | validation loss = 14.4058\n",
      "Epoch 122 | training loss = 14.3063 | validation loss = 14.4033\n",
      "Epoch 123 | training loss = 14.3033 | validation loss = 14.4007\n",
      "Epoch 124 | training loss = 14.3003 | validation loss = 14.3982\n",
      "Epoch 125 | training loss = 14.2973 | validation loss = 14.3956\n",
      "Epoch 126 | training loss = 14.2943 | validation loss = 14.3931\n",
      "Epoch 127 | training loss = 14.2913 | validation loss = 14.3905\n",
      "Epoch 128 | training loss = 14.2883 | validation loss = 14.3880\n",
      "Epoch 129 | training loss = 14.2853 | validation loss = 14.3855\n",
      "Epoch 130 | training loss = 14.2823 | validation loss = 14.3830\n",
      "Epoch 131 | training loss = 14.2793 | validation loss = 14.3804\n",
      "Epoch 132 | training loss = 14.2763 | validation loss = 14.3779\n",
      "Epoch 133 | training loss = 14.2734 | validation loss = 14.3754\n",
      "Epoch 134 | training loss = 14.2704 | validation loss = 14.3729\n",
      "Epoch 135 | training loss = 14.2674 | validation loss = 14.3704\n",
      "Epoch 136 | training loss = 14.2645 | validation loss = 14.3680\n",
      "Epoch 137 | training loss = 14.2616 | validation loss = 14.3655\n",
      "Epoch 138 | training loss = 14.2586 | validation loss = 14.3630\n",
      "Epoch 139 | training loss = 14.2557 | validation loss = 14.3605\n",
      "Epoch 140 | training loss = 14.2528 | validation loss = 14.3580\n",
      "Epoch 141 | training loss = 14.2498 | validation loss = 14.3556\n",
      "Epoch 142 | training loss = 14.2469 | validation loss = 14.3531\n",
      "Epoch 143 | training loss = 14.2440 | validation loss = 14.3507\n",
      "Epoch 144 | training loss = 14.2411 | validation loss = 14.3482\n",
      "Epoch 145 | training loss = 14.2382 | validation loss = 14.3457\n",
      "Epoch 146 | training loss = 14.2353 | validation loss = 14.3433\n",
      "Epoch 147 | training loss = 14.2324 | validation loss = 14.3409\n",
      "Epoch 148 | training loss = 14.2295 | validation loss = 14.3384\n",
      "Epoch 149 | training loss = 14.2266 | validation loss = 14.3360\n",
      "Epoch 150 | training loss = 14.2237 | validation loss = 14.3335\n",
      "Epoch 151 | training loss = 14.2208 | validation loss = 14.3311\n",
      "Epoch 152 | training loss = 14.2180 | validation loss = 14.3287\n",
      "Epoch 153 | training loss = 14.2151 | validation loss = 14.3262\n",
      "Epoch 154 | training loss = 14.2122 | validation loss = 14.3238\n",
      "Epoch 155 | training loss = 14.2093 | validation loss = 14.3214\n",
      "Epoch 156 | training loss = 14.2065 | validation loss = 14.3190\n",
      "Epoch 157 | training loss = 14.2036 | validation loss = 14.3166\n",
      "Epoch 158 | training loss = 14.2008 | validation loss = 14.3141\n",
      "Epoch 159 | training loss = 14.1979 | validation loss = 14.3117\n",
      "Epoch 160 | training loss = 14.1951 | validation loss = 14.3093\n",
      "Epoch 161 | training loss = 14.1922 | validation loss = 14.3069\n",
      "Epoch 162 | training loss = 14.1894 | validation loss = 14.3045\n",
      "Epoch 163 | training loss = 14.1865 | validation loss = 14.3021\n",
      "Epoch 164 | training loss = 14.1837 | validation loss = 14.2997\n",
      "Epoch 165 | training loss = 14.1808 | validation loss = 14.2973\n",
      "Epoch 166 | training loss = 14.1780 | validation loss = 14.2949\n",
      "Epoch 167 | training loss = 14.1752 | validation loss = 14.2925\n",
      "Epoch 168 | training loss = 14.1723 | validation loss = 14.2901\n",
      "Epoch 169 | training loss = 14.1695 | validation loss = 14.2877\n",
      "Epoch 170 | training loss = 14.1667 | validation loss = 14.2853\n",
      "Epoch 171 | training loss = 14.1639 | validation loss = 14.2829\n",
      "Epoch 172 | training loss = 14.1610 | validation loss = 14.2805\n",
      "Epoch 173 | training loss = 14.1582 | validation loss = 14.2781\n",
      "Epoch 174 | training loss = 14.1554 | validation loss = 14.2757\n",
      "Epoch 175 | training loss = 14.1526 | validation loss = 14.2734\n",
      "Epoch 176 | training loss = 14.1498 | validation loss = 14.2710\n",
      "Epoch 177 | training loss = 14.1469 | validation loss = 14.2686\n",
      "Epoch 178 | training loss = 14.1441 | validation loss = 14.2662\n",
      "Epoch 179 | training loss = 14.1413 | validation loss = 14.2638\n",
      "Epoch 180 | training loss = 14.1385 | validation loss = 14.2614\n",
      "Epoch 181 | training loss = 14.1357 | validation loss = 14.2590\n",
      "Epoch 182 | training loss = 14.1329 | validation loss = 14.2567\n",
      "Epoch 183 | training loss = 14.1301 | validation loss = 14.2543\n",
      "Epoch 184 | training loss = 14.1273 | validation loss = 14.2519\n",
      "Epoch 185 | training loss = 14.1245 | validation loss = 14.2495\n",
      "Epoch 186 | training loss = 14.1217 | validation loss = 14.2471\n",
      "Epoch 187 | training loss = 14.1189 | validation loss = 14.2448\n",
      "Epoch 188 | training loss = 14.1161 | validation loss = 14.2424\n",
      "Epoch 189 | training loss = 14.1133 | validation loss = 14.2400\n",
      "Epoch 190 | training loss = 14.1104 | validation loss = 14.2376\n",
      "Epoch 191 | training loss = 14.1077 | validation loss = 14.2353\n",
      "Epoch 192 | training loss = 14.1049 | validation loss = 14.2329\n",
      "Epoch 193 | training loss = 14.1021 | validation loss = 14.2305\n",
      "Epoch 194 | training loss = 14.0993 | validation loss = 14.2281\n",
      "Epoch 195 | training loss = 14.0965 | validation loss = 14.2258\n",
      "Epoch 196 | training loss = 14.0937 | validation loss = 14.2234\n",
      "Epoch 197 | training loss = 14.0909 | validation loss = 14.2210\n",
      "Epoch 198 | training loss = 14.0881 | validation loss = 14.2186\n",
      "Epoch 199 | training loss = 14.0853 | validation loss = 14.2162\n",
      "Epoch 200 | training loss = 14.0825 | validation loss = 14.2139\n",
      "Epoch 201 | training loss = 14.0797 | validation loss = 14.2115\n",
      "Epoch 202 | training loss = 14.0769 | validation loss = 14.2091\n",
      "Epoch 203 | training loss = 14.0741 | validation loss = 14.2067\n",
      "Epoch 204 | training loss = 14.0713 | validation loss = 14.2044\n",
      "Epoch 205 | training loss = 14.0685 | validation loss = 14.2020\n",
      "Epoch 206 | training loss = 14.0657 | validation loss = 14.1996\n",
      "Epoch 207 | training loss = 14.0629 | validation loss = 14.1972\n",
      "Epoch 208 | training loss = 14.0601 | validation loss = 14.1949\n",
      "Epoch 209 | training loss = 14.0573 | validation loss = 14.1925\n",
      "Epoch 210 | training loss = 14.0545 | validation loss = 14.1901\n",
      "Epoch 211 | training loss = 14.0517 | validation loss = 14.1877\n",
      "Epoch 212 | training loss = 14.0489 | validation loss = 14.1853\n",
      "Epoch 213 | training loss = 14.0462 | validation loss = 14.1830\n",
      "Epoch 214 | training loss = 14.0434 | validation loss = 14.1806\n"
     ]
    }
   ],
   "source": [
    "n_factors = 1\n",
    "n_epochs = 300\n",
    "learning_rate = 0.005\n",
    "lambda_reg = 0.01\n",
    "batch_size = 128\n",
    "model = nmf(n_users, n_songs, n_factors)\n",
    "train_losses, val_losses = model.train(train_data, val_data, n_epochs, learning_rate, lambda_reg, batch_size)"
   ]
  },
  {
   "cell_type": "code",
   "execution_count": 29,
   "metadata": {},
   "outputs": [
    {
     "data": {
      "image/png": "[encoded data removed]",
      "text/plain": [
       "<Figure size 640x480 with 1 Axes>"
      ]
     },
     "metadata": {},
     "output_type": "display_data"
    }
   ],
   "source": [
    "# Plot training loss in blue\n",
    "plt.plot(train_losses, color='blue', label='Training Loss')\n",
    "plt.plot(val_losses, color='orange', label='Validation Loss')\n",
    "plt.xlabel('Epoch')\n",
    "plt.ylabel('Loss')\n",
    "plt.title('Training and Validation Loss')\n",
    "plt.legend()\n",
    "plt.show()"
   ]
  },
  {
   "cell_type": "code",
   "execution_count": 13,
   "metadata": {},
   "outputs": [],
   "source": [
    "pred, true = model.predict(train_data)"
   ]
  },
  {
   "cell_type": "code",
   "execution_count": 14,
   "metadata": {},
   "outputs": [
    {
     "data": {
      "text/plain": [
       "(Array([0., 0., 0., 0., 0., 0., 0., 0., 0., 0., 0., 0., 0., 0., 0., 0., 0.,\n",
       "        0., 0., 0.], dtype=float32),\n",
       " array([5, 4, 5, 5, 5, 5, 3, 3, 2, 5, 2, 2, 1, 1, 1, 5, 2, 4, 2, 1]))"
      ]
     },
     "execution_count": 14,
     "metadata": {},
     "output_type": "execute_result"
    }
   ],
   "source": [
    "pred[:20], true[:20]"
   ]
  }
 ],
 "metadata": {
  "kernelspec": {
   "display_name": "repos",
   "language": "python",
   "name": "python3"
  },
  "language_info": {
   "codemirror_mode": {
    "name": "ipython",
    "version": 3
   },
   "file_extension": ".py",
   "mimetype": "text/x-python",
   "name": "python",
   "nbconvert_exporter": "python",
   "pygments_lexer": "ipython3",
   "version": "3.10.9"
  }
 },
 "nbformat": 4,
 "nbformat_minor": 2
}
